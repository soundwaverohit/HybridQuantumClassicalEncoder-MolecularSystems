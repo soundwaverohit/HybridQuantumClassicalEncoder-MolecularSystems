{
 "cells": [
  {
   "cell_type": "markdown",
   "metadata": {},
   "source": [
    "# Hamiltonian Matrix Construction"
   ]
  },
  {
   "cell_type": "markdown",
   "metadata": {},
   "source": [
    "### Imports"
   ]
  },
  {
   "cell_type": "code",
   "execution_count": 3,
   "metadata": {},
   "outputs": [],
   "source": [
    "from pyscf import gto, scf\n",
    "import scipy.sparse as sp\n",
    "import numpy as np\n",
    "from scipy.sparse.linalg import eigsh\n",
    "import scipy.linalg as la\n",
    "import scipy.sparse as sp"
   ]
  },
  {
   "cell_type": "markdown",
   "metadata": {},
   "source": [
    "### Tries to construct the hamiltonian matrix"
   ]
  },
  {
   "cell_type": "code",
   "execution_count": 13,
   "metadata": {},
   "outputs": [
    {
     "name": "stdout",
     "output_type": "stream",
     "text": [
      "converged SCF energy = -76.00933224033\n"
     ]
    }
   ],
   "source": [
    "# Define the molecule\n",
    "mol = gto.M(atom=[\n",
    "    ['O', (0.0, 0.0, 0.0)],          # Oxygen at origin\n",
    "    ['H', (0.0, -0.757, 0.587)],     # Hydrogen 1\n",
    "    ['H', (0.0, 0.757, 0.587)]       # Hydrogen 2\n",
    "], basis='6-311G')\n",
    "\n",
    "# Perform Hartree-Fock Calculation\n",
    "mf = scf.RHF(mol)\n",
    "mf.kernel()\n",
    "\n",
    "# Obtain Molecular Orbitals Coefficients and Integrals\n",
    "mo_coeff = mf.mo_coeff\n",
    "h1 = mf.get_hcore(mol)\n",
    "g2 = mol.intor('int2e', aosym='s1')\n",
    "\n",
    "# Transform Two-Electron Integrals to MO Basis\n",
    "g2_mo = np.einsum('pqrs,pi,qj,rk,sl->ijkl', g2, mo_coeff, mo_coeff, mo_coeff, mo_coeff)\n",
    "\n",
    "# Number of orbitals and occupied orbitals\n",
    "num_orbitals = mo_coeff.shape[1]\n",
    "nocc = mol.nelectron // 2  # Assuming a closed-shell molecule\n",
    "\n",
    "# Compute the Density Matrix\n",
    "P = 2 * np.dot(mo_coeff[:, :nocc], mo_coeff[:, :nocc].T)\n",
    "\n",
    "# Construct the Fock Matrix\n",
    "F = np.copy(h1)\n",
    "for i in range(num_orbitals):\n",
    "    for j in range(num_orbitals):\n",
    "        for k in range(num_orbitals):\n",
    "            for l in range(num_orbitals):\n",
    "                F[i, j] += P[k, l] * (2 * g2_mo[i, j, k, l] - g2_mo[i, k, j, l])\n",
    "\n",
    "# Expand the Fock Matrix to include spin orbitals\n",
    "num_spin_orbitals = 2 * num_orbitals\n",
    "F_spin = np.zeros((num_spin_orbitals, num_spin_orbitals))\n",
    "for i in range(num_orbitals):\n",
    "    for j in range(num_orbitals):\n",
    "        F_spin[i, j] = F[i, j]\n",
    "        F_spin[i + num_orbitals, j + num_orbitals] = F[i, j]\n",
    "\n",
    "# Convert the Fock Matrix to a sparse matrix\n",
    "\n",
    "\n",
    "# Step 8: Scale Up to a Larger Sparse Matrix\n",
    "# The Hamiltonian matrix is converted into a sparse matrix format.\n",
    "H_spin_sparse = sp.csr_matrix(F_spin)\n",
    "\n",
    "# A much larger sparse matrix (`large_H_spin_sparse`) is created.\n",
    "size = 2**14\n",
    "large_H_spin_sparse = sp.lil_matrix((size, size))\n",
    "# Convert H_spin to a sparse matrix\n",
    "H_spin_sparse = sp.csr_matrix(F_spin)\n",
    "\n",
    "size = 2**14\n",
    "\n",
    "num_repetitions = size // F_spin.shape[0]\n",
    "\n",
    "# Create a list of H_spin matrices\n",
    "H_spin_blocks = [F_spin] * num_repetitions\n",
    "\n",
    "# Create the block diagonal matrix\n",
    "large_H_spin_block = la.block_diag(*H_spin_blocks)\n",
    "\n",
    "# Convert to a sparse matrix\n",
    "large_H_spin_sparse_csr = sp.csr_matrix(large_H_spin_block)\n"
   ]
  },
  {
   "cell_type": "code",
   "execution_count": 15,
   "metadata": {},
   "outputs": [],
   "source": []
  },
  {
   "cell_type": "code",
   "execution_count": 16,
   "metadata": {},
   "outputs": [
    {
     "data": {
      "text/plain": [
       "(16378, 16378)"
      ]
     },
     "execution_count": 16,
     "metadata": {},
     "output_type": "execute_result"
    }
   ],
   "source": []
  },
  {
   "cell_type": "markdown",
   "metadata": {},
   "source": [
    "#### See the true lowest eigenvalue"
   ]
  },
  {
   "cell_type": "code",
   "execution_count": 17,
   "metadata": {},
   "outputs": [
    {
     "name": "stdout",
     "output_type": "stream",
     "text": [
      "Smallest eigenvalue: -63.73326475196806\n"
     ]
    }
   ],
   "source": [
    "\n",
    "# Assuming large_H_spin_sparse_csr is your large sparse Hamiltonian matrix\n",
    "# Find the smallest eigenvalue\n",
    "# 'which='SA'' means to find the smallest algebraic eigenvalue\n",
    "eigenvalues, eigenvectors = eigsh(large_H_spin_sparse_csr, k=1, which='SA')\n",
    "\n",
    "# Extract the smallest eigenvalue\n",
    "smallest_eigenvalue = eigenvalues[0]\n",
    "print(\"Smallest eigenvalue:\", smallest_eigenvalue)"
   ]
  },
  {
   "cell_type": "code",
   "execution_count": 6,
   "metadata": {},
   "outputs": [
    {
     "name": "stdout",
     "output_type": "stream",
     "text": [
      "Smallest eigenvalue: -31.88784079412096\n"
     ]
    }
   ],
   "source": [
    "# Use the spin Hamiltonian directly without enlarging\n",
    "H_spin_sparse_csr = sp.csr_matrix(H_spin)\n",
    "\n",
    "# Find the smallest eigenvalue\n",
    "eigenvalues, eigenvectors = eigsh(H_spin_sparse_csr, k=1, which='SA')\n",
    "\n",
    "# Extract the smallest eigenvalue\n",
    "smallest_eigenvalue = eigenvalues[0]\n",
    "print(\"Smallest eigenvalue:\", smallest_eigenvalue)\n"
   ]
  },
  {
   "cell_type": "code",
   "execution_count": null,
   "metadata": {},
   "outputs": [],
   "source": []
  },
  {
   "cell_type": "markdown",
   "metadata": {},
   "source": [
    "#### Check the size of the matrix"
   ]
  },
  {
   "cell_type": "code",
   "execution_count": 4,
   "metadata": {},
   "outputs": [
    {
     "data": {
      "text/plain": [
       "(16384, 16384)"
      ]
     },
     "execution_count": 4,
     "metadata": {},
     "output_type": "execute_result"
    }
   ],
   "source": [
    "large_H_spin_sparse_csr.shape"
   ]
  },
  {
   "cell_type": "code",
   "execution_count": null,
   "metadata": {},
   "outputs": [],
   "source": []
  },
  {
   "cell_type": "code",
   "execution_count": null,
   "metadata": {},
   "outputs": [],
   "source": []
  },
  {
   "cell_type": "code",
   "execution_count": 11,
   "metadata": {},
   "outputs": [
    {
     "name": "stdout",
     "output_type": "stream",
     "text": [
      "converged SCF energy = -76.00933224033\n",
      "Smallest eigenvalue: -63.73326475196809\n"
     ]
    }
   ],
   "source": [
    "from pyscf import gto, scf\n",
    "import numpy as np\n",
    "import scipy.linalg as la\n",
    "import scipy.sparse as sp\n",
    "from scipy.sparse.linalg import eigsh\n",
    "\n",
    "# Define the molecule\n",
    "mol = gto.M(atom=[\n",
    "    ['O', (0.0, 0.0, 0.0)],          # Oxygen at origin\n",
    "    ['H', (0.0, -0.757, 0.587)],     # Hydrogen 1\n",
    "    ['H', (0.0, 0.757, 0.587)]       # Hydrogen 2\n",
    "], basis='6-311G')\n",
    "\n",
    "# Perform Hartree-Fock Calculation\n",
    "mf = scf.RHF(mol)\n",
    "mf.kernel()\n",
    "\n",
    "# Obtain Molecular Orbitals Coefficients and Integrals\n",
    "mo_coeff = mf.mo_coeff\n",
    "h1 = mf.get_hcore(mol)\n",
    "g2 = mol.intor('int2e', aosym='s1')\n",
    "\n",
    "# Transform Two-Electron Integrals to MO Basis\n",
    "g2_mo = np.einsum('pqrs,pi,qj,rk,sl->ijkl', g2, mo_coeff, mo_coeff, mo_coeff, mo_coeff)\n",
    "\n",
    "# Number of orbitals and occupied orbitals\n",
    "num_orbitals = mo_coeff.shape[1]\n",
    "nocc = mol.nelectron // 2  # Assuming a closed-shell molecule\n",
    "\n",
    "# Compute the Density Matrix\n",
    "P = 2 * np.dot(mo_coeff[:, :nocc], mo_coeff[:, :nocc].T)\n",
    "\n",
    "# Construct the Fock Matrix\n",
    "F = np.copy(h1)\n",
    "for i in range(num_orbitals):\n",
    "    for j in range(num_orbitals):\n",
    "        for k in range(num_orbitals):\n",
    "            for l in range(num_orbitals):\n",
    "                F[i, j] += P[k, l] * (2 * g2_mo[i, j, k, l] - g2_mo[i, k, j, l])\n",
    "\n",
    "# Expand the Fock Matrix to include spin orbitals\n",
    "num_spin_orbitals = 2 * num_orbitals\n",
    "F_spin = np.zeros((num_spin_orbitals, num_spin_orbitals))\n",
    "for i in range(num_orbitals):\n",
    "    for j in range(num_orbitals):\n",
    "        F_spin[i, j] = F[i, j]\n",
    "        F_spin[i + num_orbitals, j + num_orbitals] = F[i, j]\n",
    "\n",
    "# Convert the Fock Matrix to a sparse matrix\n",
    "F_spin_sparse = sp.csr_matrix(F_spin)\n",
    "\n",
    "# Find the smallest eigenvalue\n",
    "eigenvalues, eigenvectors = eigsh(F_spin_sparse, k=1, which='SA')\n",
    "\n",
    "# Extract the smallest eigenvalue\n",
    "smallest_eigenvalue = eigenvalues[0]\n",
    "print(\"Smallest eigenvalue:\", smallest_eigenvalue)\n"
   ]
  },
  {
   "cell_type": "code",
   "execution_count": 12,
   "metadata": {},
   "outputs": [
    {
     "name": "stdout",
     "output_type": "stream",
     "text": [
      "Total Electronic Energy: -109.6061579514529\n",
      "Nuclear Repulsion Energy: 9.188258417746113\n",
      "Total Molecular Energy: -100.41789953370679\n"
     ]
    }
   ],
   "source": [
    "# Calculate the Electronic Energy\n",
    "E_electronic = 0.5 * np.sum(P * (h1 + F))\n",
    "\n",
    "# Add the Nuclear Repulsion Energy\n",
    "E_nuclear = mol.energy_nuc()\n",
    "\n",
    "# Total Molecular Energy\n",
    "E_total = E_electronic + E_nuclear\n",
    "\n",
    "print(\"Total Electronic Energy:\", E_electronic)\n",
    "print(\"Nuclear Repulsion Energy:\", E_nuclear)\n",
    "print(\"Total Molecular Energy:\", E_total)\n"
   ]
  },
  {
   "cell_type": "code",
   "execution_count": null,
   "metadata": {},
   "outputs": [],
   "source": []
  }
 ],
 "metadata": {
  "kernelspec": {
   "display_name": "Python 3",
   "language": "python",
   "name": "python3"
  },
  "language_info": {
   "codemirror_mode": {
    "name": "ipython",
    "version": 3
   },
   "file_extension": ".py",
   "mimetype": "text/x-python",
   "name": "python",
   "nbconvert_exporter": "python",
   "pygments_lexer": "ipython3",
   "version": "3.11.5"
  }
 },
 "nbformat": 4,
 "nbformat_minor": 2
}
