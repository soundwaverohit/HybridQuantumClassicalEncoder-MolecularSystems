{
 "cells": [
  {
   "cell_type": "markdown",
   "metadata": {},
   "source": [
    "# Hamiltonian Matrix Construction"
   ]
  },
  {
   "cell_type": "markdown",
   "metadata": {},
   "source": [
    "### Imports"
   ]
  },
  {
   "cell_type": "code",
   "execution_count": 1,
   "metadata": {},
   "outputs": [],
   "source": [
    "from pyscf import gto, scf\n",
    "import scipy.sparse as sp\n",
    "import numpy as np\n",
    "from scipy.sparse.linalg import eigsh"
   ]
  },
  {
   "cell_type": "markdown",
   "metadata": {},
   "source": [
    "### Tries to construct the hamiltonian matrix"
   ]
  },
  {
   "cell_type": "code",
   "execution_count": 5,
   "metadata": {},
   "outputs": [
    {
     "name": "stdout",
     "output_type": "stream",
     "text": [
      "converged SCF energy = -76.057114083119\n"
     ]
    }
   ],
   "source": [
    "from pyscf import gto, scf\n",
    "import numpy as np\n",
    "\n",
    "# Define the molecule (water in this case)\n",
    "mol = gto.M(atom=[\n",
    "    ['O', (0.0, 0.0, 0.0)],          # Oxygen at origin\n",
    "    ['H', (0.0, -0.757, 0.587)],     # Hydrogen 1\n",
    "    ['H', (0.0, 0.757, 0.587)]       # Hydrogen 2\n",
    "], basis='cc-pVTZ')  # Using a larger basis set\n",
    "\n",
    "# Perform Hartree-Fock calculation\n",
    "mf = scf.RHF(mol)\n",
    "mf.kernel()\n",
    "\n",
    "# Get MO coefficients\n",
    "mo_coeff = mf.mo_coeff\n",
    "\n",
    "# Get one-electron and two-electron integrals\n",
    "h1 = mf.get_hcore(mol)\n",
    "g2 = mol.intor('int2e', aosym='s1')\n",
    "\n",
    "# Transform g2 to MO basis\n",
    "g2_mo = np.einsum('pqrs,pi,qj,rk,sl->ijkl', g2, mo_coeff, mo_coeff, mo_coeff, mo_coeff)\n",
    "\n",
    "# Construct the Hamiltonian matrix in MO basis\n",
    "num_orbitals = mo_coeff.shape[1]\n",
    "H = np.zeros((num_orbitals, num_orbitals))\n",
    "\n",
    "# Add one-electron integrals\n",
    "for i in range(num_orbitals):\n",
    "    for j in range(num_orbitals):\n",
    "        H[i, j] += h1[i, j]\n",
    "\n",
    "# Add two-electron integrals\n",
    "for i in range(num_orbitals):\n",
    "    for j in range(num_orbitals):\n",
    "        for k in range(num_orbitals):\n",
    "            for l in range(num_orbitals):\n",
    "                H[i, j] += 0.5 * g2_mo[i, j, k, l] * ((k == l) - 0.5 * (i == l) * (j == k))\n",
    "\n",
    "# Diagonalize the Hamiltonian matrix\n",
    "eigenvalues, eigenvectors = np.linalg.eigh(H)\n",
    "\n",
    "# eigenvalues contains the energy levels\n",
    "print(\"Eigenvalues:\", eigenvalues)\n"
   ]
  },
  {
   "cell_type": "code",
   "execution_count": null,
   "metadata": {},
   "outputs": [],
   "source": []
  },
  {
   "cell_type": "code",
   "execution_count": null,
   "metadata": {},
   "outputs": [],
   "source": []
  },
  {
   "cell_type": "markdown",
   "metadata": {},
   "source": [
    "#### See the true lowest eigenvalue"
   ]
  },
  {
   "cell_type": "code",
   "execution_count": 3,
   "metadata": {},
   "outputs": [
    {
     "name": "stdout",
     "output_type": "stream",
     "text": [
      "Smallest eigenvalue: -37308.77372912153\n"
     ]
    }
   ],
   "source": [
    "\n",
    "# Assuming large_H_spin_sparse_csr is your large sparse Hamiltonian matrix\n",
    "# Find the smallest eigenvalue\n",
    "# 'which='SA'' means to find the smallest algebraic eigenvalue\n",
    "eigenvalues, eigenvectors = eigsh(large_H_spin_sparse_csr, k=1, which='SA')\n",
    "\n",
    "# Extract the smallest eigenvalue\n",
    "smallest_eigenvalue = eigenvalues[0]\n",
    "print(\"Smallest eigenvalue:\", smallest_eigenvalue)"
   ]
  },
  {
   "cell_type": "markdown",
   "metadata": {},
   "source": [
    "#### Check the size of the matrix"
   ]
  },
  {
   "cell_type": "code",
   "execution_count": 4,
   "metadata": {},
   "outputs": [
    {
     "data": {
      "text/plain": [
       "(16384, 16384)"
      ]
     },
     "execution_count": 4,
     "metadata": {},
     "output_type": "execute_result"
    }
   ],
   "source": [
    "large_H_spin_sparse_csr.shape"
   ]
  },
  {
   "cell_type": "code",
   "execution_count": null,
   "metadata": {},
   "outputs": [],
   "source": []
  }
 ],
 "metadata": {
  "kernelspec": {
   "display_name": "Python 3",
   "language": "python",
   "name": "python3"
  },
  "language_info": {
   "codemirror_mode": {
    "name": "ipython",
    "version": 3
   },
   "file_extension": ".py",
   "mimetype": "text/x-python",
   "name": "python",
   "nbconvert_exporter": "python",
   "pygments_lexer": "ipython3",
   "version": "3.11.5"
  }
 },
 "nbformat": 4,
 "nbformat_minor": 2
}
