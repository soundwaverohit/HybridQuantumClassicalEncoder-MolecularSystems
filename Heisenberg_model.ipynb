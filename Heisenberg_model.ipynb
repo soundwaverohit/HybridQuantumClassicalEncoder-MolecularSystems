{
 "cells": [
  {
   "cell_type": "code",
   "execution_count": 1,
   "metadata": {},
   "outputs": [
    {
     "name": "stderr",
     "output_type": "stream",
     "text": [
      "/var/folders/k_/0jg_dk8x3519whfrw207hfzr0000gn/T/ipykernel_94165/1896842105.py:5: DeprecationWarning: ``qiskit.algorithms`` has been migrated to an independent package: https://github.com/qiskit-community/qiskit-algorithms. The ``qiskit.algorithms`` import path is deprecated as of qiskit-terra 0.25.0 and will be removed no earlier than 3 months after the release date. Please run ``pip install qiskit_algorithms`` and use ``import qiskit_algorithms`` instead.\n",
      "  from qiskit.algorithms import VQE, NumPyMinimumEigensolver\n"
     ]
    }
   ],
   "source": [
    "import numpy as np\n",
    "from qiskit import Aer\n",
    "from qiskit.utils import QuantumInstance\n",
    "from qiskit.circuit import QuantumCircuit, ParameterVector, Parameter\n",
    "from qiskit.algorithms import VQE, NumPyMinimumEigensolver\n",
    "from qiskit.algorithms.optimizers import SPSA, ADAM\n",
    "from qiskit.opflow import MatrixOp\n",
    "import warnings\n",
    "from qiskit.circuit.library import RZGate, RXGate, RXXGate\n",
    "from math import pi\n",
    "\n",
    "warnings.filterwarnings('ignore')\n",
    "\n",
    "\n",
    "import qutip as qt"
   ]
  },
  {
   "cell_type": "code",
   "execution_count": 2,
   "metadata": {},
   "outputs": [
    {
     "data": {
      "text/latex": [
       "Quantum object: dims = [[2, 2, 2, 2], [2, 2, 2, 2]], shape = (16, 16), type = oper, isherm = True $ \\\\ \\left(\\begin{matrix}2.0 & 0.0 & 0.0 & 0.0 & 0.0 & \\cdots & 0.0 & 0.0 & 0.0 & 0.0 & 0.0\\\\0.0 & 0.0 & 0.500 & 0.0 & 0.500 & \\cdots & 0.0 & 0.0 & 0.0 & 0.0 & 0.0\\\\0.0 & 0.500 & 0.0 & 0.0 & 1.0 & \\cdots & 0.0 & 0.0 & 0.0 & 0.0 & 0.0\\\\0.0 & 0.0 & 0.0 & -1.0 & 0.0 & \\cdots & 0.0 & 0.0 & 0.0 & 0.0 & 0.0\\\\0.0 & 0.500 & 1.0 & 0.0 & 0.0 & \\cdots & 0.0 & 0.0 & 0.0 & 0.0 & 0.0\\\\\\vdots & \\vdots & \\vdots & \\vdots & \\vdots & \\ddots & \\vdots & \\vdots & \\vdots & \\vdots & \\vdots\\\\0.0 & 0.0 & 0.0 & 0.0 & 0.0 & \\cdots & 0.0 & 0.0 & 1.0 & 0.500 & 0.0\\\\0.0 & 0.0 & 0.0 & 0.0 & 0.0 & \\cdots & 0.0 & -1.0 & 0.0 & 0.0 & 0.0\\\\0.0 & 0.0 & 0.0 & 0.0 & 0.0 & \\cdots & 1.0 & 0.0 & 0.0 & 0.500 & 0.0\\\\0.0 & 0.0 & 0.0 & 0.0 & 0.0 & \\cdots & 0.500 & 0.0 & 0.500 & 0.0 & 0.0\\\\0.0 & 0.0 & 0.0 & 0.0 & 0.0 & \\cdots & 0.0 & 0.0 & 0.0 & 0.0 & 2.0\\\\\\end{matrix}\\right)$"
      ],
      "text/plain": [
       "Quantum object: dims = [[2, 2, 2, 2], [2, 2, 2, 2]], shape = (16, 16), type = oper, isherm = True\n",
       "Qobj data =\n",
       "[[ 2.   0.   0.   0.   0.   0.   0.   0.   0.   0.   0.   0.   0.   0.\n",
       "   0.   0. ]\n",
       " [ 0.   0.   0.5  0.   0.5  0.   0.   0.   1.   0.   0.   0.   0.   0.\n",
       "   0.   0. ]\n",
       " [ 0.   0.5  0.   0.   1.   0.   0.   0.   0.5  0.   0.   0.   0.   0.\n",
       "   0.   0. ]\n",
       " [ 0.   0.   0.  -1.   0.   1.   0.5  0.   0.   0.5  1.   0.   0.   0.\n",
       "   0.   0. ]\n",
       " [ 0.   0.5  1.   0.   0.   0.   0.   0.   0.5  0.   0.   0.   0.   0.\n",
       "   0.   0. ]\n",
       " [ 0.   0.   0.   1.   0.  -1.   0.5  0.   0.   0.5  0.   0.   1.   0.\n",
       "   0.   0. ]\n",
       " [ 0.   0.   0.   0.5  0.   0.5  0.   0.   0.   0.   0.5  0.   0.5  0.\n",
       "   0.   0. ]\n",
       " [ 0.   0.   0.   0.   0.   0.   0.   0.   0.   0.   0.   0.5  0.   0.5\n",
       "   1.   0. ]\n",
       " [ 0.   1.   0.5  0.   0.5  0.   0.   0.   0.   0.   0.   0.   0.   0.\n",
       "   0.   0. ]\n",
       " [ 0.   0.   0.   0.5  0.   0.5  0.   0.   0.   0.   0.5  0.   0.5  0.\n",
       "   0.   0. ]\n",
       " [ 0.   0.   0.   1.   0.   0.   0.5  0.   0.   0.5 -1.   0.   1.   0.\n",
       "   0.   0. ]\n",
       " [ 0.   0.   0.   0.   0.   0.   0.   0.5  0.   0.   0.   0.   0.   1.\n",
       "   0.5  0. ]\n",
       " [ 0.   0.   0.   0.   0.   1.   0.5  0.   0.   0.5  1.   0.  -1.   0.\n",
       "   0.   0. ]\n",
       " [ 0.   0.   0.   0.   0.   0.   0.   0.5  0.   0.   0.   1.   0.   0.\n",
       "   0.5  0. ]\n",
       " [ 0.   0.   0.   0.   0.   0.   0.   1.   0.   0.   0.   0.5  0.   0.5\n",
       "   0.   0. ]\n",
       " [ 0.   0.   0.   0.   0.   0.   0.   0.   0.   0.   0.   0.   0.   0.\n",
       "   0.   2. ]]"
      ]
     },
     "execution_count": 2,
     "metadata": {},
     "output_type": "execute_result"
    }
   ],
   "source": [
    "sx = qt.sigmax()\n",
    "sy = qt.sigmay()\n",
    "sz = qt.sigmaz()\n",
    "si = qt.qeye(2)\n",
    "\n",
    "def find_neighbors(site, L=2):\n",
    "    row, col = divmod(site, L)\n",
    "    nearest_neighbors = []\n",
    "    next_nearest_neighbors = []\n",
    "\n",
    "    # Nearest neighbors\n",
    "    if row > 0: nearest_neighbors.append((row - 1) * L + col)  # Up\n",
    "    if row < L - 1: nearest_neighbors.append((row + 1) * L + col)  # Down\n",
    "    if col > 0: nearest_neighbors.append(row * L + (col - 1))  # Left\n",
    "    if col < L - 1: nearest_neighbors.append(row * L + (col + 1))  # Right\n",
    "\n",
    "    # Next-nearest neighbors\n",
    "    if row > 0 and col > 0: next_nearest_neighbors.append((row - 1) * L + (col - 1))  # Up-Left\n",
    "    if row > 0 and col < L - 1: next_nearest_neighbors.append((row - 1) * L + (col + 1))  # Up-Right\n",
    "    if row < L - 1 and col > 0: next_nearest_neighbors.append((row + 1) * L + (col - 1))  # Down-Left\n",
    "    if row < L - 1 and col < L - 1: next_nearest_neighbors.append((row + 1) * L + (col + 1))  # Down-Right\n",
    "\n",
    "    return nearest_neighbors, next_nearest_neighbors\n",
    "\n",
    "# Define the kronecker product (tensor product) function for QuTiP objects\n",
    "def tensor_product_qutip(ops):\n",
    "    return qt.tensor(ops)\n",
    "\n",
    "# Function to create site operators in the many-body Hilbert space\n",
    "def site_operator(N, op, site):\n",
    "    op_list = [si] * N\n",
    "    op_list[site] = op\n",
    "    return tensor_product_qutip(op_list)\n",
    "\n",
    "# Hamiltonian construction function for the 2x2 lattice\n",
    "# Hamiltonian construction function for the 2x2 lattice\n",
    "def construct_hamiltonian_qutip(L=2, J2=0.5):\n",
    "    N_sites = L * L  # Total number of sites\n",
    "    H = 0  # Start with an empty Hamiltonian\n",
    "    \n",
    "    for site in range(N_sites):\n",
    "        # Add nearest-neighbor interactions\n",
    "        nearest_neighbors, _ = find_neighbors(site, L=L)\n",
    "        for neighbor in nearest_neighbors:\n",
    "            if site < neighbor:  # To avoid double counting\n",
    "                H += (1/4) * (site_operator(N_sites, sx, site) * site_operator(N_sites, sx, neighbor) +\n",
    "                               site_operator(N_sites, sy, site) * site_operator(N_sites, sy, neighbor) +\n",
    "                               site_operator(N_sites, sz, site) * site_operator(N_sites, sz, neighbor))\n",
    "        # Add next-nearest-neighbor interactions\n",
    "        _, next_nearest_neighbors = find_neighbors(site, L=L)\n",
    "        for neighbor in next_nearest_neighbors:\n",
    "            if site < neighbor:  # To avoid double counting\n",
    "                H += J2 * (site_operator(N_sites, sx, site) * site_operator(N_sites, sx, neighbor) +\n",
    "                            site_operator(N_sites, sy, site) * site_operator(N_sites, sy, neighbor) +\n",
    "                            site_operator(N_sites, sz, site) * site_operator(N_sites, sz, neighbor))\n",
    "    \n",
    "    return H\n",
    "\n",
    "\n",
    "# Construct the Hamiltonian for a 2x2 lattice\n",
    "H_qutip = construct_hamiltonian_qutip(L=2, J2=0.5)\n",
    "H_qutip"
   ]
  },
  {
   "cell_type": "code",
   "execution_count": 3,
   "metadata": {},
   "outputs": [],
   "source": [
    "H_np = H_qutip.full()"
   ]
  },
  {
   "cell_type": "code",
   "execution_count": 4,
   "metadata": {},
   "outputs": [
    {
     "data": {
      "text/plain": [
       "16"
      ]
     },
     "execution_count": 4,
     "metadata": {},
     "output_type": "execute_result"
    }
   ],
   "source": [
    "\n",
    "len(H_np)"
   ]
  },
  {
   "cell_type": "code",
   "execution_count": null,
   "metadata": {},
   "outputs": [],
   "source": []
  },
  {
   "cell_type": "code",
   "execution_count": 5,
   "metadata": {},
   "outputs": [
    {
     "name": "stdout",
     "output_type": "stream",
     "text": [
      "The VQE given lowest eigenvalue is:  -2.9955311197203995\n",
      "Exact Solver Result: -2.9999999999999964\n"
     ]
    }
   ],
   "source": [
    "hamiltonian_matrix= H_np\n",
    "hamiltonian_operator = MatrixOp(hamiltonian_matrix)\n",
    "\n",
    "def create_ansatz(num_qubits, depth):\n",
    "    # Assume the depth and the specific gates are determined from the image\n",
    "    depth = 4  # For example, change according to the layers in the image\n",
    "    ansatz = QuantumCircuit(num_qubits)\n",
    "\n",
    "    # The rotation angles are parameterized\n",
    "    parameters = {f\"θ_{i}\": Parameter(f\"θ_{i}\") for i in range(depth*num_qubits*3)}\n",
    "\n",
    "    # Apply Hadamard gates to all qubits\n",
    "    ansatz.h(range(num_qubits))\n",
    "\n",
    "    # Apply the layer structure as seen in the image\n",
    "    for d in range(depth):\n",
    "        # Insert the parameterized single-qubit rotations and entangling blocks as per the image\n",
    "        \n",
    "        # Add layers of parameterized rotation gates (assuming rz(rx(rz)) pattern)\n",
    "        for qubit in range(num_qubits):\n",
    "            ansatz.rz(parameters[f\"θ_{3*qubit + 3*num_qubits*d}\"], qubit)\n",
    "            ansatz.rx(parameters[f\"θ_{3*qubit + 1 + 3*num_qubits*d}\"], qubit)\n",
    "            ansatz.rz(parameters[f\"θ_{3*qubit + 2 + 3*num_qubits*d}\"], qubit)\n",
    "\n",
    "        # Add entangling gates based on the pattern in the circuit diagram\n",
    "        # This is a simplification and may need adjustments to match the specific pattern of entanglements\n",
    "        for qubit in range(0, num_qubits - 1, 2):\n",
    "            ansatz.cx(qubit, qubit + 1)\n",
    "        for qubit in range(1, num_qubits - 1, 2):\n",
    "            ansatz.cx(qubit, qubit + 1)\n",
    "            \n",
    "        # Add more layers if there are additional patterns in the image\n",
    "\n",
    "    return ansatz, list(parameters.values())\n",
    "\n",
    "\n",
    "\n",
    "num_qubits = int(np.log2(hamiltonian_matrix.shape[0]))\n",
    "ansatz, parameters = create_ansatz(num_qubits,1)\n",
    "\n",
    "# Use SPSA optimizer, it's suitable for noisy optimization like on a real quantum device\n",
    "optimizer = ADAM(maxiter=1000)\n",
    "\n",
    "# Setup quantum instance to use the statevector simulator\n",
    "quantum_instance = QuantumInstance(Aer.get_backend('aer_simulator_statevector'))\n",
    "\n",
    "# Initialize VQE with the ansatz, optimizer, and the quantum instance\n",
    "vqe = VQE(ansatz=ansatz, optimizer=optimizer, quantum_instance=quantum_instance)\n",
    "\n",
    "# Run VQE to find the lowest eigenvalue of the Hamiltonian\n",
    "vqe_result = vqe.compute_minimum_eigenvalue(operator=hamiltonian_operator)\n",
    "\n",
    "# Extract the lowest eigenvaluef\n",
    "lowest_eigenvalue = np.real(vqe_result.eigenvalue)\n",
    "print(\"The VQE given lowest eigenvalue is: \", lowest_eigenvalue)\n",
    "\n",
    "# Compare to exact solver\n",
    "exact_solver = NumPyMinimumEigensolver()\n",
    "exact_result = exact_solver.compute_minimum_eigenvalue(operator=hamiltonian_operator)\n",
    "\n",
    "print('Exact Solver Result:', exact_result.eigenvalue.real)"
   ]
  },
  {
   "cell_type": "code",
   "execution_count": null,
   "metadata": {},
   "outputs": [],
   "source": []
  },
  {
   "cell_type": "code",
   "execution_count": null,
   "metadata": {},
   "outputs": [],
   "source": []
  },
  {
   "cell_type": "code",
   "execution_count": 6,
   "metadata": {},
   "outputs": [
    {
     "name": "stdout",
     "output_type": "stream",
     "text": [
      "-3.0\n"
     ]
    }
   ],
   "source": [
    "import scipy.linalg as la\n",
    "\n",
    "def find_lowest_eigenvalue(matrix):\n",
    "    # Compute all eigenvalues, but only the first eigenvectors\n",
    "    eigenvalues, _ = la.eigh(matrix, eigvals=(0, 0))\n",
    "    return eigenvalues[0]\n",
    "\n",
    "# Assuming large_matrix is your matrix\n",
    "lowest_eigenvalue = find_lowest_eigenvalue(H_np)\n",
    "print(lowest_eigenvalue)\n"
   ]
  },
  {
   "cell_type": "code",
   "execution_count": null,
   "metadata": {},
   "outputs": [],
   "source": []
  },
  {
   "cell_type": "code",
   "execution_count": null,
   "metadata": {},
   "outputs": [],
   "source": []
  }
 ],
 "metadata": {
  "kernelspec": {
   "display_name": "resumefilter",
   "language": "python",
   "name": "python3"
  },
  "language_info": {
   "codemirror_mode": {
    "name": "ipython",
    "version": 3
   },
   "file_extension": ".py",
   "mimetype": "text/x-python",
   "name": "python",
   "nbconvert_exporter": "python",
   "pygments_lexer": "ipython3",
   "version": "3.11.3"
  }
 },
 "nbformat": 4,
 "nbformat_minor": 2
}
