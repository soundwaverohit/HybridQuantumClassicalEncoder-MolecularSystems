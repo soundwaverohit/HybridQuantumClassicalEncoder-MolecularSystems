{
 "cells": [
  {
   "cell_type": "markdown",
   "id": "c5666165",
   "metadata": {},
   "source": [
    "# Practice Notebook for checking things working"
   ]
  },
  {
   "cell_type": "markdown",
   "id": "b8255774",
   "metadata": {},
   "source": [
    "##### This notebook is to play around with the pipeline and the changes will be made in the other files for this pipeline"
   ]
  },
  {
   "cell_type": "code",
   "execution_count": null,
   "id": "7e11a85a",
   "metadata": {},
   "outputs": [],
   "source": []
  },
  {
   "cell_type": "markdown",
   "id": "ec97a2c9",
   "metadata": {},
   "source": [
    "### Imports"
   ]
  },
  {
   "cell_type": "code",
   "execution_count": 6,
   "id": "b27b7db6",
   "metadata": {},
   "outputs": [],
   "source": [
    "import torch\n",
    "import torch.nn as nn\n",
    "import torch.optim as optim\n",
    "import warnings\n",
    "from qiskit import QuantumCircuit, Aer, execute\n",
    "from qiskit.visualization import plot_histogram\n",
    "from qiskit.circuit import Parameter\n",
    "import torch \n",
    "import numpy as np\n",
    "from pyscf import gto, scf\n",
    "import scipy.sparse as sp\n",
    "import matplotlib.pyplot as plt\n",
    "\n",
    "warnings.filterwarnings('ignore')"
   ]
  },
  {
   "cell_type": "code",
   "execution_count": null,
   "id": "bc912f04",
   "metadata": {},
   "outputs": [],
   "source": []
  },
  {
   "cell_type": "markdown",
   "id": "a28db0e1",
   "metadata": {},
   "source": [
    "# Hamiltonian Matrix Construction"
   ]
  },
  {
   "cell_type": "code",
   "execution_count": 7,
   "id": "84503d28",
   "metadata": {},
   "outputs": [
    {
     "name": "stdout",
     "output_type": "stream",
     "text": [
      "converged SCF energy = -74.9630631297277\n",
      "14\n",
      "-31.88784079412096\n"
     ]
    }
   ],
   "source": [
    "\n",
    "mol = gto.M(atom=[\n",
    "    ['O', (0.0, 0.0, 0.0)],          # Oxygen at origin\n",
    "    ['H', (0.0, -0.757, 0.587)],     # Hydrogen 1\n",
    "    ['H', (0.0, 0.757, 0.587)]       # Hydrogen 2\n",
    "], basis='sto-3g')\n",
    "\n",
    "# Perform Hartree-Fock calculation\n",
    "mf = scf.RHF(mol)\n",
    "mf.kernel()\n",
    "\n",
    "# Get MO coefficients and integrals\n",
    "mo_coeff = mf.mo_coeff\n",
    "h1 = mf.get_hcore(mol)\n",
    "g2 = mol.intor('int2e', aosym='s1')\n",
    "\n",
    "# Transform g2 to MO basis\n",
    "g2_mo = np.einsum('pqrs,pi,qj,rk,sl->ijkl', g2, mo_coeff, mo_coeff, mo_coeff, mo_coeff)\n",
    "\n",
    "# Construct the Hamiltonian matrix in MO basis\n",
    "num_orbitals = mo_coeff.shape[1]\n",
    "H = np.zeros((num_orbitals, num_orbitals))\n",
    "\n",
    "# Add one-electron integrals\n",
    "for i in range(num_orbitals):\n",
    "    for j in range(num_orbitals):\n",
    "        H[i, j] += h1[i, j]\n",
    "\n",
    "# Add two-electron integrals\n",
    "for i in range(num_orbitals):\n",
    "    for j in range(num_orbitals):\n",
    "        for k in range(num_orbitals):\n",
    "            for l in range(num_orbitals):\n",
    "                H[i, j] += 0.5 * g2_mo[i, j, k, l] * ((k == l) - 0.5 * (i == l) * (j == k))\n",
    "\n",
    "num_spin_orbitals = 2 * num_orbitals  # Double the number of orbitals for spin\n",
    "H_spin = np.zeros((num_spin_orbitals, num_spin_orbitals))\n",
    "\n",
    "# Fill in the Hamiltonian matrix for spin orbitals\n",
    "for i in range(num_orbitals):\n",
    "    for j in range(num_orbitals):\n",
    "        # Alpha spin block\n",
    "        H_spin[i, j] = H[i, j]\n",
    "        # Beta spin block\n",
    "        H_spin[i + num_orbitals, j + num_orbitals] = H[i, j]\n",
    "# The Hamiltonian matrix 'H' is now constructed\n",
    "                \n",
    "#print(H_spin)\n",
    "print(len(H_spin))\n",
    "\n",
    "import numpy as np\n",
    "\n",
    "# Assume H_spin is already defined as your 14x14 Hamiltonian matrix\n",
    "# Diagonalize the Hamiltonian matrix\n",
    "eigenvalues, eigenvectors = np.linalg.eigh(H_spin)\n",
    "\n",
    "# eigenvalues contains the energy levels\n",
    "# eigenvectors contains the corresponding quantum states\n",
    "print(min(eigenvalues))\n",
    "\n",
    "\n",
    "\n",
    "# Convert H_spin to a sparse matrix\n",
    "H_spin_sparse = sp.csr_matrix(H_spin)\n",
    "\n",
    "size = 2**14\n",
    "\n",
    "# Create an empty sparse matrix of the desired size\n",
    "large_H_spin_sparse = sp.lil_matrix((size, size))\n",
    "\n",
    "# Calculate the number of repetitions needed\n",
    "repetitions = size // H_spin_sparse.shape[0]\n",
    "\n",
    "# Populate the large sparse matrix with the pattern from H_spin\n",
    "for i in range(repetitions):\n",
    "    for j in range(repetitions):\n",
    "        start_row = i * H_spin_sparse.shape[0]\n",
    "        start_col = j * H_spin_sparse.shape[1]\n",
    "        end_row = start_row + H_spin_sparse.shape[0]\n",
    "        end_col = start_col + H_spin_sparse.shape[1]\n",
    "        large_H_spin_sparse[start_row:end_row, start_col:end_col] = H_spin_sparse\n",
    "\n",
    "# Convert to CSR format for efficient arithmetic and matrix-vector operations\n",
    "large_H_spin_sparse_csr = large_H_spin_sparse.tocsr()"
   ]
  },
  {
   "cell_type": "markdown",
   "id": "a43fde03",
   "metadata": {},
   "source": [
    "#### See the true lowest eigenvalue"
   ]
  },
  {
   "cell_type": "code",
   "execution_count": null,
   "id": "a6f8ae69",
   "metadata": {},
   "outputs": [],
   "source": [
    "large_H_spin_sparse_csr"
   ]
  },
  {
   "cell_type": "code",
   "execution_count": 8,
   "id": "9604f0d3",
   "metadata": {},
   "outputs": [
    {
     "name": "stdout",
     "output_type": "stream",
     "text": [
      "Smallest eigenvalue: -37308.77372912153\n"
     ]
    }
   ],
   "source": [
    "from scipy.sparse.linalg import eigsh\n",
    "\n",
    "# Assuming large_H_spin_sparse_csr is your large sparse Hamiltonian matrix\n",
    "# Find the smallest eigenvalue\n",
    "# 'which='SA'' means to find the smallest algebraic eigenvalue\n",
    "eigenvalues, eigenvectors = eigsh(large_H_spin_sparse_csr, k=1, which='SA')\n",
    "\n",
    "# Extract the smallest eigenvalue\n",
    "smallest_eigenvalue = eigenvalues[0]\n",
    "print(\"Smallest eigenvalue:\", smallest_eigenvalue)\n"
   ]
  },
  {
   "cell_type": "markdown",
   "id": "1c4ee095",
   "metadata": {},
   "source": [
    "#### Check the size of the matrix"
   ]
  },
  {
   "cell_type": "code",
   "execution_count": 9,
   "id": "d4f27c74",
   "metadata": {},
   "outputs": [
    {
     "data": {
      "text/plain": [
       "(16384, 16384)"
      ]
     },
     "execution_count": 9,
     "metadata": {},
     "output_type": "execute_result"
    }
   ],
   "source": [
    "large_H_spin_sparse_csr.shape"
   ]
  },
  {
   "cell_type": "code",
   "execution_count": null,
   "id": "9ca5ba4c",
   "metadata": {},
   "outputs": [],
   "source": []
  },
  {
   "cell_type": "markdown",
   "id": "3e1ca464",
   "metadata": {},
   "source": [
    "# Hybrid Quantum-Classical Autoencoder Model + Training Loop"
   ]
  },
  {
   "cell_type": "markdown",
   "id": "0e25c5c1",
   "metadata": {},
   "source": [
    "### Classical Encoder"
   ]
  },
  {
   "cell_type": "code",
   "execution_count": 10,
   "id": "f3d7fee8",
   "metadata": {},
   "outputs": [],
   "source": [
    "# Define the classical encoder neural network\n",
    "class ClassicalEncoder(nn.Module):\n",
    "    def __init__(self):\n",
    "        super(ClassicalEncoder, self).__init__()\n",
    "        self.fc = nn.Sequential(\n",
    "            nn.Linear(16384, 28),  # First layer with 7 inputs and 14 outputs\n",
    "            nn.ReLU(),         # Activation function\n",
    "            nn.Linear(28, 56), # Second layer with 14 inputs and 28 outputs\n",
    "            nn.ReLU(),         # Activation function\n",
    "            nn.Linear(56, 28), # Third layer with 28 inputs and 56 outputs\n",
    "            nn.ReLU(),         # Activation function\n",
    "            nn.Linear(28, 14), # Fourth layer reducing from 56 to 28 outputs\n",
    "            nn.ReLU(),         # Activation function\n",
    "            nn.Linear(14, 4) # Fifth layer reducing from 28 to 14 outputs\n",
    "        )\n",
    "    \n",
    "    def forward(self, x):\n",
    "        return self.fc(x)\n",
    "\n",
    "encoder = ClassicalEncoder()\n",
    "#print(\"The encoder is: \", encoder)"
   ]
  },
  {
   "cell_type": "markdown",
   "id": "2e7ecaa0",
   "metadata": {},
   "source": [
    "### Parameterized Quantum Cirucit"
   ]
  },
  {
   "cell_type": "code",
   "execution_count": 22,
   "id": "2b00787c",
   "metadata": {},
   "outputs": [],
   "source": [
    "# Define a function to execute the quantum circuit\n",
    "def run_quantum_circuit(params):\n",
    "    # Create a list of parameters for the quantum circuit\n",
    "    theta = [Parameter(f'θ{i}') for i in range(4)]\n",
    "\n",
    "    # add control rotation gates\n",
    "    \n",
    "    # Create a quantum circuit with 4 qubits and 4 classical bits\n",
    "    qc = QuantumCircuit(4)\n",
    "    \n",
    "    # Apply initial Ry and Rx rotations\n",
    "    for i in range(4):\n",
    "        qc.ry(theta[i], i)\n",
    "        qc.rx(theta[i], i)\n",
    "\n",
    "    qc.cnot(3,0)\n",
    "    qc.cnot(1,0)\n",
    "    qc.cnot(2,1)\n",
    "    qc.cnot(3,2)\n",
    "\n",
    "    qc.barrier()\n",
    "\n",
    "    for i in range(4):\n",
    "        qc.rx(theta[i], i)\n",
    "        qc.ry(theta[i], i)\n",
    "        qc.rx(theta[i], i)\n",
    "\n",
    "    qc.cnot(3,0)\n",
    "    qc.cnot(1,0)\n",
    "    qc.cnot(2,1)\n",
    "    qc.cnot(3,2)\n",
    "\n",
    "    qc.barrier()\n",
    "\n",
    "    for i in range(4):\n",
    "        qc.rx(theta[i], i)\n",
    "        qc.ry(theta[i], i)\n",
    "        qc.rx(theta[i], i)\n",
    "\n",
    "    qc.cnot(3,0)\n",
    "    qc.cnot(1,0)\n",
    "    qc.cnot(2,1)\n",
    "    qc.cnot(3,2)\n",
    "\n",
    "    qc.barrier()\n",
    "    \n",
    "    \n",
    "\n",
    "    # Add measurements to all qubits\n",
    "    qc.measure_all()\n",
    "    \n",
    "    # Bind the parameters to the values from the PyTorch model\n",
    "    param_dict = {theta[i]: params[i].item() for i in range(4)}\n",
    "    qc_bound = qc.bind_parameters(param_dict)\n",
    "    \n",
    "    # Print the quantum circuit\n",
    "    #print(qc_bound)\n",
    "\n",
    "    # If you want a visual diagram of the circuit, you can use:\n",
    "    # circuit_drawer(qc_bound, output='mpl').show()\n",
    "\n",
    "    # Execute the quantum circuit\n",
    "    backend = Aer.get_backend('qasm_simulator')\n",
    "    job = execute(qc_bound, backend, shots=1024)\n",
    "    result = job.result()\n",
    "    counts = result.get_counts(qc_bound)\n",
    "    \n",
    "    # Plot the histogram of results\n",
    "    plot_histogram(counts)\n",
    "    \n",
    "    # Get the most common bitstring\n",
    "    output_bitstring = max(counts, key=counts.get)\n",
    "    \n",
    "    # Convert bitstring to numpy array of integers\n",
    "    output_data = np.array([int(bit) for bit in output_bitstring])\n",
    "    \n",
    "    # Convert to PyTorch tensor\n",
    "    output_tensor = torch.tensor(output_data, dtype=torch.float32)\n",
    "    \n",
    "    return output_tensor"
   ]
  },
  {
   "cell_type": "markdown",
   "id": "50de1bf7",
   "metadata": {},
   "source": [
    "### Classical Decoder"
   ]
  },
  {
   "cell_type": "code",
   "execution_count": 12,
   "id": "7e021269",
   "metadata": {},
   "outputs": [],
   "source": [
    "# Define the classical decoder neural network\n",
    "class ClassicalDecoder(nn.Module):\n",
    "    def __init__(self):\n",
    "        super(ClassicalDecoder, self).__init__()\n",
    "        self.fc = nn.Sequential(\n",
    "            nn.Linear(4, 8),    # First layer with 4 inputs and 8 outputs\n",
    "            nn.ReLU(),          # Activation function\n",
    "            nn.Linear(8, 16),   # Second layer with 8 inputs and 16 outputs\n",
    "            nn.ReLU(),          # Activation function\n",
    "            nn.Linear(16, 32),  # Third layer with 16 inputs and 32 outputs\n",
    "            nn.ReLU(),          # Activation function\n",
    "            nn.Linear(32, 64),\n",
    "            nn.ReLU(),\n",
    "            nn.Linear(64, 32),  # Fourth layer reducing from 32 to 16 outputs\n",
    "            nn.ReLU(),          # Activation function\n",
    "            nn.Linear(32, 16384)\n",
    "        )\n",
    "    \n",
    "    def forward(self, x):\n",
    "        return self.fc(x)\n",
    "\n",
    "decoder = ClassicalDecoder()\n",
    "#print(\"The decoder is: \", decoder)"
   ]
  },
  {
   "cell_type": "markdown",
   "id": "eb50bc16",
   "metadata": {},
   "source": [
    "### Building the Hybrid Model for Learning"
   ]
  },
  {
   "cell_type": "code",
   "execution_count": 23,
   "id": "e636ba37",
   "metadata": {},
   "outputs": [],
   "source": [
    "class HybridModel(nn.Module):\n",
    "    def __init__(self):\n",
    "        super(HybridModel, self).__init__()\n",
    "        self.encoder = ClassicalEncoder()\n",
    "        self.decoder = ClassicalDecoder()\n",
    "        self.qcircuit = run_quantum_circuit\n",
    "\n",
    "    def forward(self, x):\n",
    "        encoded = self.encoder(x)\n",
    "        quantum_result = self.qcircuit(encoded)\n",
    "        decoded = self.decoder(quantum_result)\n",
    "        return decoded\n",
    "\n",
    "# Initialize the model\n",
    "model = HybridModel()"
   ]
  },
  {
   "cell_type": "markdown",
   "id": "1ef747d0",
   "metadata": {},
   "source": [
    "### Expectation Value Calculation"
   ]
  },
  {
   "cell_type": "code",
   "execution_count": 24,
   "id": "14be7710",
   "metadata": {},
   "outputs": [],
   "source": [
    "# Define the loss function (energy expectation)\n",
    "def energy_expectation(output, hamiltonian):\n",
    "    # Your implementation here using PyTorch operations\n",
    "    # Define the molecule\n",
    "\n",
    "    # Convert Hamiltonian matrix to complex tensor\n",
    "\n",
    "    # Extract the row indices, column indices, and values from the CSR matrix\n",
    "    rows, cols = hamiltonian.nonzero()\n",
    "    values = hamiltonian.data\n",
    "\n",
    "    # Convert to torch tensors\n",
    "    rows = torch.tensor(rows, dtype=torch.int64)\n",
    "    cols = torch.tensor(cols, dtype=torch.int64)\n",
    "    values = torch.tensor(values, dtype=torch.cfloat)\n",
    "\n",
    "    # Create indices tensor for the sparse tensor\n",
    "    indices = torch.vstack((rows, cols))\n",
    "\n",
    "    # Create the PyTorch sparse tensor\n",
    "    H_complex = torch.sparse_coo_tensor(indices, values, size=large_H_spin_sparse_csr.shape)\n",
    "\n",
    "    # Convert to dense tensor and then take the real part\n",
    "    H_complex_dense = H_complex.to_dense()\n",
    "    H_complex_real_dense = H_complex_dense.real\n",
    "\n",
    "    # Assuming values is the tensor of complex values\n",
    "    real_values = values.real  # Extract the real part before creating the sparse tensor\n",
    "\n",
    "    # Create the sparse tensor with real values\n",
    "    H_complex_real = torch.sparse_coo_tensor(indices, real_values, size=large_H_spin_sparse_csr.shape)\n",
    "\n",
    "\n",
    "\n",
    "    # Convert to real part only if needed\n",
    "    #H_complex = H_complex.real()\n",
    "    #H_complex = torch.tensor(hamiltonian, dtype=torch.cfloat).real\n",
    "\n",
    "    wavefunction = output  # Assuming this is a complex tensor\n",
    "    #wavefunction_np = wavefunction.detach().numpy()\n",
    "    #expectation_value = np.dot(wavefunction_np, np.dot(hamiltonian, wavefunction_np))\n",
    "\n",
    "    # Normalize the wavefunction\n",
    "    norm_wavefunction = wavefunction / torch.sqrt(torch.sum(torch.abs(wavefunction)**2))\n",
    "\n",
    "    # Check if the size of the Hamiltonian matches the size of the wavefunction\n",
    "    # This is crucial, and you need to address this if there's a mismatch\n",
    "    assert H_complex.shape[0] == norm_wavefunction.shape[0], \"Size mismatch between Hamiltonian and wavefunction\"\n",
    "\n",
    "    # Calculate the energy expectation value\n",
    "    energy = torch.vdot(norm_wavefunction, torch.mv(H_complex_real, norm_wavefunction)).real\n",
    "\n",
    "\n",
    "    return energy #torch.tensor([0.0], requires_grad=True)  # Example placeholder"
   ]
  },
  {
   "cell_type": "markdown",
   "id": "3c2f22d3",
   "metadata": {},
   "source": [
    "### Training Loop"
   ]
  },
  {
   "cell_type": "code",
   "execution_count": 25,
   "id": "db0fbfed",
   "metadata": {},
   "outputs": [
    {
     "name": "stdout",
     "output_type": "stream",
     "text": [
      "Epoch 1/100, Loss: -8.326949119567871\n",
      "Epoch 2/100, Loss: -662.4866333007812\n",
      "Epoch 3/100, Loss: -2355.87646484375\n",
      "Epoch 4/100, Loss: -5124.9697265625\n",
      "Epoch 5/100, Loss: -8510.0048828125\n",
      "Epoch 6/100, Loss: -11795.017578125\n",
      "Epoch 7/100, Loss: -14736.5078125\n",
      "Epoch 8/100, Loss: -17562.32421875\n",
      "Epoch 9/100, Loss: -20437.982421875\n",
      "Epoch 10/100, Loss: -23373.16796875\n",
      "Epoch 11/100, Loss: -26253.5\n",
      "Epoch 12/100, Loss: -28889.224609375\n",
      "Epoch 13/100, Loss: -31096.359375\n",
      "Epoch 14/100, Loss: -32785.046875\n",
      "Epoch 15/100, Loss: -33967.27734375\n",
      "Epoch 16/100, Loss: -34736.84375\n",
      "Epoch 17/100, Loss: -35218.4765625\n",
      "Epoch 18/100, Loss: -35524.11328125\n",
      "Epoch 19/100, Loss: -35730.9765625\n",
      "Epoch 20/100, Loss: -35885.515625\n",
      "Epoch 21/100, Loss: -36013.890625\n",
      "Epoch 22/100, Loss: -36130.421875\n",
      "Epoch 23/100, Loss: -36242.015625\n",
      "Epoch 24/100, Loss: -36350.6953125\n",
      "Epoch 25/100, Loss: -36455.9453125\n",
      "Epoch 26/100, Loss: -36555.8828125\n",
      "Epoch 27/100, Loss: -36648.984375\n",
      "Epoch 28/100, Loss: -36734.1171875\n",
      "Epoch 29/100, Loss: -36810.87890625\n",
      "Epoch 30/100, Loss: -36878.375\n",
      "Epoch 31/100, Loss: -36935.6484375\n",
      "Epoch 32/100, Loss: -36983.80078125\n",
      "Epoch 33/100, Loss: -37024.08203125\n",
      "Epoch 34/100, Loss: -37057.8671875\n",
      "Epoch 35/100, Loss: -37086.3046875\n",
      "Epoch 36/100, Loss: -37110.14453125\n",
      "Epoch 37/100, Loss: -37130.37109375\n",
      "Epoch 38/100, Loss: -37147.4765625\n",
      "Epoch 39/100, Loss: -37162.3046875\n",
      "Epoch 40/100, Loss: -37175.20703125\n",
      "Epoch 41/100, Loss: -37186.5625\n",
      "Epoch 42/100, Loss: -37196.8984375\n",
      "Epoch 43/100, Loss: -37206.33984375\n",
      "Epoch 44/100, Loss: -37215.0625\n",
      "Epoch 45/100, Loss: -37223.26171875\n",
      "Epoch 46/100, Loss: -37230.98046875\n",
      "Epoch 47/100, Loss: -37238.15234375\n",
      "Epoch 48/100, Loss: -37244.8984375\n",
      "Epoch 49/100, Loss: -37251.18359375\n",
      "Epoch 50/100, Loss: -37256.984375\n",
      "Epoch 51/100, Loss: -37262.234375\n",
      "Epoch 52/100, Loss: -37267.0625\n",
      "Epoch 53/100, Loss: -37271.4375\n",
      "Epoch 54/100, Loss: -37275.421875\n",
      "Epoch 55/100, Loss: -37278.89453125\n",
      "Epoch 56/100, Loss: -37281.98046875\n",
      "Epoch 57/100, Loss: -37284.72265625\n",
      "Epoch 58/100, Loss: -37287.15625\n",
      "Epoch 59/100, Loss: -37289.3046875\n",
      "Epoch 60/100, Loss: -37291.140625\n",
      "Epoch 61/100, Loss: -37292.765625\n",
      "Epoch 62/100, Loss: -37294.2265625\n",
      "Epoch 63/100, Loss: -37295.53125\n",
      "Epoch 64/100, Loss: -37296.671875\n",
      "Epoch 65/100, Loss: -37297.7578125\n",
      "Epoch 66/100, Loss: -37298.68359375\n",
      "Epoch 67/100, Loss: -37299.6328125\n",
      "Epoch 68/100, Loss: -37300.453125\n",
      "Epoch 69/100, Loss: -37301.16796875\n",
      "Epoch 70/100, Loss: -37301.89453125\n",
      "Epoch 71/100, Loss: -37302.5390625\n",
      "Epoch 72/100, Loss: -37303.125\n",
      "Epoch 73/100, Loss: -37303.640625\n",
      "Epoch 74/100, Loss: -37304.1171875\n",
      "Epoch 75/100, Loss: -37304.60546875\n",
      "Epoch 76/100, Loss: -37304.94921875\n",
      "Epoch 77/100, Loss: -37305.296875\n",
      "Epoch 78/100, Loss: -37305.578125\n",
      "Epoch 79/100, Loss: -37305.8046875\n",
      "Epoch 80/100, Loss: -37306.109375\n",
      "Epoch 81/100, Loss: -37306.25390625\n",
      "Epoch 82/100, Loss: -37306.46875\n",
      "Epoch 83/100, Loss: -37306.6015625\n",
      "Epoch 84/100, Loss: -37306.73828125\n",
      "Epoch 85/100, Loss: -37306.91015625\n",
      "Epoch 86/100, Loss: -37307.1015625\n",
      "Epoch 87/100, Loss: -37307.1875\n",
      "Epoch 88/100, Loss: -37307.2890625\n",
      "Epoch 89/100, Loss: -37307.3515625\n",
      "Epoch 90/100, Loss: -37307.515625\n",
      "Epoch 91/100, Loss: -37307.5234375\n",
      "Epoch 92/100, Loss: -37307.59375\n",
      "Epoch 93/100, Loss: -37307.6953125\n",
      "Epoch 94/100, Loss: -37307.71875\n",
      "Epoch 95/100, Loss: -37307.79296875\n",
      "Epoch 96/100, Loss: -37307.7890625\n",
      "Epoch 97/100, Loss: -37307.8671875\n",
      "Epoch 98/100, Loss: -37307.921875\n",
      "Epoch 99/100, Loss: -37307.92578125\n",
      "Epoch 100/100, Loss: -37307.96875\n"
     ]
    }
   ],
   "source": [
    "# Sample input\n",
    "input_data = torch.rand(16384, requires_grad=True)  # Example input\n",
    "#input_data= torch.tensor([ 0.3679, -0.0602,  0.6200,  0.1083, -0.0054,  0.0107,  0.1241, 0.3679, -0.0602,  0.6200,  0.1083, -0.0054,  0.0107,  0.1241])\n",
    "\n",
    "# Optimization setup\n",
    "#print(\"The model parameters are: \", model.parameters)\n",
    "optimizer = optim.Adam(model.parameters(), lr=0.01)\n",
    "num_epochs = 100\n",
    "loss_values = []\n",
    "\n",
    "for epoch in range(num_epochs):\n",
    "    optimizer.zero_grad()            # Clear existing gradients\n",
    "    output = model(input_data)       # Forward pass\n",
    "\n",
    "    # Ensure output requires grad\n",
    "    if not output.requires_grad:\n",
    "        raise RuntimeError(\"Output does not require gradients. Check model implementation.\")\n",
    "\n",
    "    # Calculate the loss\n",
    "    #initial_hamiltonian = hamiltonian_initial_module.mf.get_hcore()\n",
    "    #final_hamiltonian = hamiltonian_final_module.mf.get_hcore()\n",
    "    loss = energy_expectation(output,large_H_spin_sparse_csr)\n",
    "    # Check if loss requires grad\n",
    "    if not loss.requires_grad:\n",
    "        raise RuntimeError(\"Loss does not require gradients. Check energy_expectation implementation.\")\n",
    "\n",
    "    loss.backward()                  # Backward pass\n",
    "    optimizer.step()                 # Update parameters\n",
    "    loss_values.append(loss.item())  # Store loss for plotting\n",
    "    print(f\"Epoch {epoch+1}/{num_epochs}, Loss: {loss.item()}\")\n"
   ]
  },
  {
   "cell_type": "markdown",
   "id": "00ba5802",
   "metadata": {},
   "source": [
    "### Training Loss Plot"
   ]
  },
  {
   "cell_type": "code",
   "execution_count": 26,
   "id": "f0a2859f",
   "metadata": {},
   "outputs": [
    {
     "data": {
      "image/png": "[encoded data removed]",
      "text/plain": [
       "<Figure size 640x480 with 1 Axes>"
      ]
     },
     "metadata": {},
     "output_type": "display_data"
    }
   ],
   "source": [
    "# Plotting the loss values\n",
    "plt.plot(loss_values)\n",
    "plt.axhline(y=-37308.77372912153, color='r', linestyle='--')\n",
    "plt.xlabel('Epoch')\n",
    "plt.ylabel('Loss')\n",
    "plt.title('Training Loss Over Time')\n",
    "plt.show()"
   ]
  },
  {
   "cell_type": "markdown",
   "id": "38462178",
   "metadata": {},
   "source": [
    "#### Energy difference"
   ]
  },
  {
   "cell_type": "code",
   "execution_count": 21,
   "id": "e5f78a0b",
   "metadata": {},
   "outputs": [
    {
     "name": "stdout",
     "output_type": "stream",
     "text": [
      "Energy difference in percentage :  1.948212307400038e-05\n"
     ]
    }
   ],
   "source": [
    "def diff_calculator(true,network_energy):\n",
    "    value = abs(true- network_energy)/ abs(true)\n",
    "    return value\n",
    "\n",
    "\n",
    "print(\"Energy difference in percentage : \", diff_calculator(smallest_eigenvalue, loss_values[99]))"
   ]
  },
  {
   "cell_type": "code",
   "execution_count": 33,
   "id": "b566bf8c",
   "metadata": {},
   "outputs": [
    {
     "name": "stdout",
     "output_type": "stream",
     "text": [
      "<bound method Module.parameters of HybridModel(\n",
      "  (encoder): ClassicalEncoder(\n",
      "    (fc): Sequential(\n",
      "      (0): Linear(in_features=16384, out_features=28, bias=True)\n",
      "      (1): ReLU()\n",
      "      (2): Linear(in_features=28, out_features=56, bias=True)\n",
      "      (3): ReLU()\n",
      "      (4): Linear(in_features=56, out_features=28, bias=True)\n",
      "      (5): ReLU()\n",
      "      (6): Linear(in_features=28, out_features=14, bias=True)\n",
      "      (7): ReLU()\n",
      "      (8): Linear(in_features=14, out_features=4, bias=True)\n",
      "    )\n",
      "  )\n",
      "  (decoder): ClassicalDecoder(\n",
      "    (fc): Sequential(\n",
      "      (0): Linear(in_features=4, out_features=8, bias=True)\n",
      "      (1): ReLU()\n",
      "      (2): Linear(in_features=8, out_features=16, bias=True)\n",
      "      (3): ReLU()\n",
      "      (4): Linear(in_features=16, out_features=32, bias=True)\n",
      "      (5): ReLU()\n",
      "      (6): Linear(in_features=32, out_features=64, bias=True)\n",
      "      (7): ReLU()\n",
      "      (8): Linear(in_features=64, out_features=32, bias=True)\n",
      "      (9): ReLU()\n",
      "      (10): Linear(in_features=32, out_features=16384, bias=True)\n",
      "    )\n",
      "  )\n",
      ")>\n"
     ]
    }
   ],
   "source": [
    "print(model.parameters)"
   ]
  },
  {
   "cell_type": "code",
   "execution_count": null,
   "id": "9ff7fc17",
   "metadata": {},
   "outputs": [],
   "source": []
  }
 ],
 "metadata": {
  "kernelspec": {
   "display_name": "Python 3",
   "language": "python",
   "name": "python3"
  },
  "language_info": {
   "codemirror_mode": {
    "name": "ipython",
    "version": 3
   },
   "file_extension": ".py",
   "mimetype": "text/x-python",
   "name": "python",
   "nbconvert_exporter": "python",
   "pygments_lexer": "ipython3",
   "version": "3.11.5"
  }
 },
 "nbformat": 4,
 "nbformat_minor": 5
}
