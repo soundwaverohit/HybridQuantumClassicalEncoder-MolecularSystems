{
 "cells": [
  {
   "cell_type": "markdown",
   "id": "c5666165",
   "metadata": {},
   "source": [
    "# Practice Notebook for checking things working"
   ]
  },
  {
   "cell_type": "markdown",
   "id": "b8255774",
   "metadata": {},
   "source": [
    "##### This notebook is to play around with the pipeline and the changes will be made in the other files for this pipeline"
   ]
  },
  {
   "cell_type": "code",
   "execution_count": null,
   "id": "7e11a85a",
   "metadata": {},
   "outputs": [],
   "source": []
  },
  {
   "cell_type": "markdown",
   "id": "ec97a2c9",
   "metadata": {},
   "source": [
    "### Imports"
   ]
  },
  {
   "cell_type": "code",
   "execution_count": 1,
   "id": "b27b7db6",
   "metadata": {},
   "outputs": [],
   "source": [
    "import torch\n",
    "import torch.nn as nn\n",
    "import torch.optim as optim\n",
    "import warnings\n",
    "from qiskit import QuantumCircuit, Aer, execute\n",
    "from qiskit.visualization import plot_histogram\n",
    "from qiskit.circuit import Parameter\n",
    "import torch \n",
    "import numpy as np\n",
    "from pyscf import gto, scf\n",
    "import scipy.sparse as sp\n",
    "import matplotlib.pyplot as plt\n",
    "from scipy.sparse.linalg import eigsh,eigs\n",
    "import scipy.linalg as la\n",
    "import scipy.sparse as sp\n",
    "\n",
    "\n",
    "warnings.filterwarnings('ignore')"
   ]
  },
  {
   "cell_type": "code",
   "execution_count": null,
   "id": "bc912f04",
   "metadata": {},
   "outputs": [],
   "source": []
  },
  {
   "cell_type": "markdown",
   "id": "a28db0e1",
   "metadata": {},
   "source": [
    "# Hamiltonian Matrix Construction"
   ]
  },
  {
   "cell_type": "code",
   "execution_count": 2,
   "id": "84503d28",
   "metadata": {},
   "outputs": [
    {
     "name": "stdout",
     "output_type": "stream",
     "text": [
      "converged SCF energy = -74.9630631297277\n",
      "14\n",
      "-31.88784079412096\n"
     ]
    }
   ],
   "source": [
    "\n",
    "mol = gto.M(atom=[\n",
    "    ['O', (0.0, 0.0, 0.0)],          # Oxygen at origin\n",
    "    ['H', (0.0, -0.757, 0.587)],     # Hydrogen 1\n",
    "    ['H', (0.0, 0.757, 0.587)]       # Hydrogen 2\n",
    "], basis='sto-3g')\n",
    "\n",
    "# Perform Hartree-Fock calculation\n",
    "mf = scf.RHF(mol)\n",
    "mf.kernel()\n",
    "\n",
    "# Get MO coefficients and integrals\n",
    "mo_coeff = mf.mo_coeff\n",
    "h1 = mf.get_hcore(mol)\n",
    "g2 = mol.intor('int2e', aosym='s1')\n",
    "\n",
    "# Transform g2 to MO basis\n",
    "g2_mo = np.einsum('pqrs,pi,qj,rk,sl->ijkl', g2, mo_coeff, mo_coeff, mo_coeff, mo_coeff)\n",
    "\n",
    "# Construct the Hamiltonian matrix in MO basis\n",
    "num_orbitals = mo_coeff.shape[1]\n",
    "H = np.zeros((num_orbitals, num_orbitals))\n",
    "\n",
    "# Add one-electron integrals\n",
    "for i in range(num_orbitals):\n",
    "    for j in range(num_orbitals):\n",
    "        H[i, j] += h1[i, j]\n",
    "\n",
    "# Add two-electron integrals\n",
    "for i in range(num_orbitals):\n",
    "    for j in range(num_orbitals):\n",
    "        for k in range(num_orbitals):\n",
    "            for l in range(num_orbitals):\n",
    "                H[i, j] += 0.5 * g2_mo[i, j, k, l] * ((k == l) - 0.5 * (i == l) * (j == k))\n",
    "\n",
    "num_spin_orbitals = 2 * num_orbitals  # Double the number of orbitals for spin\n",
    "H_spin = np.zeros((num_spin_orbitals, num_spin_orbitals))\n",
    "\n",
    "# Fill in the Hamiltonian matrix for spin orbitals\n",
    "for i in range(num_orbitals):\n",
    "    for j in range(num_orbitals):\n",
    "        # Alpha spin block\n",
    "        H_spin[i, j] = H[i, j]\n",
    "        # Beta spin block\n",
    "        H_spin[i + num_orbitals, j + num_orbitals] = H[i, j]\n",
    "# The Hamiltonian matrix 'H' is now constructed\n",
    "                \n",
    "#print(H_spin)\n",
    "print(len(H_spin))\n",
    "\n",
    "\n",
    "# Assume H_spin is already defined as your 14x14 Hamiltonian matrix\n",
    "# Diagonalize the Hamiltonian matrix\n",
    "eigenvalues, eigenvectors = np.linalg.eigh(H_spin)\n",
    "\n",
    "# eigenvalues contains the energy levels\n",
    "# eigenvectors contains the corresponding quantum states\n",
    "print(min(eigenvalues))\n",
    "\n",
    "\n",
    "\n",
    "# Convert H_spin to a sparse matrix\n",
    "H_spin_sparse = sp.csr_matrix(H_spin)\n",
    "\n",
    "size = 2**14\n",
    "\n",
    "num_repetitions = size // H_spin.shape[0]\n",
    "\n",
    "# Create a list of H_spin matrices\n",
    "H_spin_blocks = [H_spin] * num_repetitions\n",
    "\n",
    "# Create the block diagonal matrix\n",
    "large_H_spin_block = la.block_diag(*H_spin_blocks)\n",
    "\n",
    "# Convert to a sparse matrix\n",
    "large_H_spin_sparse_csr = sp.csr_matrix(large_H_spin_block)"
   ]
  },
  {
   "cell_type": "markdown",
   "id": "a43fde03",
   "metadata": {},
   "source": [
    "#### See the true lowest eigenvalue"
   ]
  },
  {
   "cell_type": "code",
   "execution_count": 3,
   "id": "a6f8ae69",
   "metadata": {},
   "outputs": [
    {
     "data": {
      "text/plain": [
       "<16380x16380 sparse matrix of type '<class 'numpy.float64'>'\n",
       "\twith 114660 stored elements in Compressed Sparse Row format>"
      ]
     },
     "execution_count": 3,
     "metadata": {},
     "output_type": "execute_result"
    }
   ],
   "source": [
    "large_H_spin_sparse_csr"
   ]
  },
  {
   "cell_type": "code",
   "execution_count": 4,
   "id": "9604f0d3",
   "metadata": {},
   "outputs": [
    {
     "name": "stdout",
     "output_type": "stream",
     "text": [
      "Smallest eigenvalue: -31.88784079412097\n"
     ]
    }
   ],
   "source": [
    "\n",
    "# Assuming large_H_spin_sparse_csr is your large sparse Hamiltonian matrix\n",
    "# Find the smallest eigenvalue\n",
    "# 'which='SA'' means to find the smallest algebraic eigenvalue\n",
    "eigenvalues, eigenvectors = eigsh(large_H_spin_sparse_csr, k=1, which='SA')\n",
    "\n",
    "# Extract the smallest eigenvalue\n",
    "smallest_eigenvalue = eigenvalues[0]\n",
    "print(\"Smallest eigenvalue:\", smallest_eigenvalue)\n"
   ]
  },
  {
   "cell_type": "markdown",
   "id": "1c4ee095",
   "metadata": {},
   "source": [
    "#### Check the size of the matrix"
   ]
  },
  {
   "cell_type": "code",
   "execution_count": 5,
   "id": "d4f27c74",
   "metadata": {},
   "outputs": [
    {
     "data": {
      "text/plain": [
       "(16380, 16380)"
      ]
     },
     "execution_count": 5,
     "metadata": {},
     "output_type": "execute_result"
    }
   ],
   "source": [
    "large_H_spin_sparse_csr.shape"
   ]
  },
  {
   "cell_type": "code",
   "execution_count": null,
   "id": "9ca5ba4c",
   "metadata": {},
   "outputs": [],
   "source": []
  },
  {
   "cell_type": "markdown",
   "id": "3e1ca464",
   "metadata": {},
   "source": [
    "# Hybrid Quantum-Classical Autoencoder Model + Training Loop"
   ]
  },
  {
   "cell_type": "markdown",
   "id": "0e25c5c1",
   "metadata": {},
   "source": [
    "### Classical Encoder"
   ]
  },
  {
   "cell_type": "code",
   "execution_count": 6,
   "id": "f3d7fee8",
   "metadata": {},
   "outputs": [],
   "source": [
    "# Define the classical encoder neural network\n",
    "class ClassicalEncoder(nn.Module):\n",
    "    def __init__(self):\n",
    "        super(ClassicalEncoder, self).__init__()\n",
    "        self.fc = nn.Sequential(\n",
    "            nn.Linear(16380, 28),  # First layer with 7 inputs and 14 outputs\n",
    "            nn.ReLU(),         # Activation function\n",
    "            nn.Linear(28, 56), # Second layer with 14 inputs and 28 outputs\n",
    "            nn.ReLU(),         # Activation function\n",
    "            nn.Linear(56, 28), # Third layer with 28 inputs and 56 outputs\n",
    "            nn.ReLU(),         # Activation function\n",
    "            nn.Linear(28, 14), # Fourth layer reducing from 56 to 28 outputs\n",
    "            nn.ReLU(),         # Activation function\n",
    "            nn.Linear(14, 4) # Fifth layer reducing from 28 to 14 outputs\n",
    "        )\n",
    "    \n",
    "    def forward(self, x):\n",
    "        return self.fc(x)\n",
    "\n",
    "encoder = ClassicalEncoder()\n",
    "#print(\"The encoder is: \", encoder)"
   ]
  },
  {
   "cell_type": "markdown",
   "id": "2e7ecaa0",
   "metadata": {},
   "source": [
    "### Parameterized Quantum Cirucit"
   ]
  },
  {
   "cell_type": "code",
   "execution_count": 7,
   "id": "2b00787c",
   "metadata": {},
   "outputs": [],
   "source": [
    "# Define a function to execute the quantum circuit\n",
    "def run_quantum_circuit(params):\n",
    "    # Create a list of parameters for the quantum circuit\n",
    "    theta = [Parameter(f'θ{i}') for i in range(4)]\n",
    "\n",
    "    # add control rotation gates\n",
    "    \n",
    "    # Create a quantum circuit with 4 qubits and 4 classical bits\n",
    "    qc = QuantumCircuit(4)\n",
    "    \n",
    "    # Apply initial Ry and Rx rotations\n",
    "    for i in range(4):\n",
    "        qc.ry(theta[i], i)\n",
    "        qc.rx(theta[i], i)\n",
    "\n",
    "    qc.cnot(3,0)\n",
    "    qc.cnot(1,0)\n",
    "    qc.cnot(2,1)\n",
    "    qc.cnot(3,2)\n",
    "\n",
    "    qc.barrier()\n",
    "\n",
    "    for i in range(4):\n",
    "        qc.rx(theta[i], i)\n",
    "        qc.ry(theta[i], i)\n",
    "        qc.rx(theta[i], i)\n",
    "\n",
    "    qc.cnot(3,0)\n",
    "    qc.cnot(1,0)\n",
    "    qc.cnot(2,1)\n",
    "    qc.cnot(3,2)\n",
    "\n",
    "    qc.barrier()\n",
    "\n",
    "    for i in range(4):\n",
    "        qc.rx(theta[i], i)\n",
    "        qc.ry(theta[i], i)\n",
    "        qc.rx(theta[i], i)\n",
    "\n",
    "    qc.cnot(3,0)\n",
    "    qc.cnot(1,0)\n",
    "    qc.cnot(2,1)\n",
    "    qc.cnot(3,2)\n",
    "\n",
    "    qc.barrier()\n",
    "    \n",
    "    \n",
    "\n",
    "    # Add measurements to all qubits\n",
    "    qc.measure_all()\n",
    "    \n",
    "    # Bind the parameters to the values from the PyTorch model\n",
    "    param_dict = {theta[i]: params[i].item() for i in range(4)}\n",
    "    qc_bound = qc.bind_parameters(param_dict)\n",
    "    \n",
    "    # Print the quantum circuit\n",
    "    #print(qc_bound)\n",
    "\n",
    "    # If you want a visual diagram of the circuit, you can use:\n",
    "    # circuit_drawer(qc_bound, output='mpl').show()\n",
    "\n",
    "    # Execute the quantum circuit\n",
    "    backend = Aer.get_backend('qasm_simulator')\n",
    "    job = execute(qc_bound, backend, shots=1024)\n",
    "    result = job.result()\n",
    "    counts = result.get_counts(qc_bound)\n",
    "    \n",
    "    # Plot the histogram of results\n",
    "    plot_histogram(counts)\n",
    "    \n",
    "    # Get the most common bitstring\n",
    "    output_bitstring = max(counts, key=counts.get)\n",
    "    \n",
    "    # Convert bitstring to numpy array of integers\n",
    "    output_data = np.array([int(bit) for bit in output_bitstring])\n",
    "    \n",
    "    # Convert to PyTorch tensor\n",
    "    output_tensor = torch.tensor(output_data, dtype=torch.float32)\n",
    "    \n",
    "    return output_tensor"
   ]
  },
  {
   "cell_type": "markdown",
   "id": "50de1bf7",
   "metadata": {},
   "source": [
    "### Classical Decoder"
   ]
  },
  {
   "cell_type": "code",
   "execution_count": 8,
   "id": "7e021269",
   "metadata": {},
   "outputs": [],
   "source": [
    "# Define the classical decoder neural network\n",
    "class ClassicalDecoder(nn.Module):\n",
    "    def __init__(self):\n",
    "        super(ClassicalDecoder, self).__init__()\n",
    "        self.fc = nn.Sequential(\n",
    "            nn.Linear(4, 8),    # First layer with 4 inputs and 8 outputs\n",
    "            nn.ReLU(),          # Activation function\n",
    "            nn.Linear(8, 16),   # Second layer with 8 inputs and 16 outputs\n",
    "            nn.ReLU(),          # Activation function\n",
    "            nn.Linear(16, 32),  # Third layer with 16 inputs and 32 outputs\n",
    "            nn.ReLU(),          # Activation function\n",
    "            nn.Linear(32, 64),\n",
    "            nn.ReLU(),\n",
    "            nn.Linear(64, 32),  # Fourth layer reducing from 32 to 16 outputs\n",
    "            nn.ReLU(),          # Activation function\n",
    "            nn.Linear(32, 16380)\n",
    "        )\n",
    "    \n",
    "    def forward(self, x):\n",
    "        return self.fc(x)\n",
    "\n",
    "decoder = ClassicalDecoder()\n",
    "#print(\"The decoder is: \", decoder)"
   ]
  },
  {
   "cell_type": "markdown",
   "id": "eb50bc16",
   "metadata": {},
   "source": [
    "### Building the Hybrid Model for Learning"
   ]
  },
  {
   "cell_type": "code",
   "execution_count": 9,
   "id": "e636ba37",
   "metadata": {},
   "outputs": [],
   "source": [
    "class HybridModel(nn.Module):\n",
    "    def __init__(self):\n",
    "        super(HybridModel, self).__init__()\n",
    "        self.encoder = ClassicalEncoder()\n",
    "        self.decoder = ClassicalDecoder()\n",
    "        self.qcircuit = run_quantum_circuit\n",
    "\n",
    "    def forward(self, x):\n",
    "        encoded = self.encoder(x)\n",
    "        quantum_result = self.qcircuit(encoded)\n",
    "        decoded = self.decoder(quantum_result)\n",
    "        return decoded\n",
    "\n",
    "# Initialize the model\n",
    "model = HybridModel()"
   ]
  },
  {
   "cell_type": "markdown",
   "id": "1ef747d0",
   "metadata": {},
   "source": [
    "### Expectation Value Calculation"
   ]
  },
  {
   "cell_type": "code",
   "execution_count": 10,
   "id": "14be7710",
   "metadata": {},
   "outputs": [],
   "source": [
    "# Define the loss function (energy expectation)\n",
    "def energy_expectation(output, hamiltonian):\n",
    "    # Your implementation here using PyTorch operations\n",
    "    # Define the molecule\n",
    "\n",
    "    # Convert Hamiltonian matrix to complex tensor\n",
    "\n",
    "    # Extract the row indices, column indices, and values from the CSR matrix\n",
    "    rows, cols = hamiltonian.nonzero()\n",
    "    values = hamiltonian.data\n",
    "\n",
    "    # Convert to torch tensors\n",
    "    rows = torch.tensor(rows, dtype=torch.int64)\n",
    "    cols = torch.tensor(cols, dtype=torch.int64)\n",
    "    values = torch.tensor(values, dtype=torch.cfloat)\n",
    "\n",
    "    # Create indices tensor for the sparse tensor\n",
    "    indices = torch.vstack((rows, cols))\n",
    "\n",
    "    # Create the PyTorch sparse tensor\n",
    "    H_complex = torch.sparse_coo_tensor(indices, values, size=large_H_spin_sparse_csr.shape)\n",
    "\n",
    "    # Convert to dense tensor and then take the real part\n",
    "    H_complex_dense = H_complex.to_dense()\n",
    "    H_complex_real_dense = H_complex_dense.real\n",
    "\n",
    "    # Assuming values is the tensor of complex values\n",
    "    real_values = values.real  # Extract the real part before creating the sparse tensor\n",
    "\n",
    "    # Create the sparse tensor with real values\n",
    "    H_complex_real = torch.sparse_coo_tensor(indices, real_values, size=large_H_spin_sparse_csr.shape)\n",
    "\n",
    "\n",
    "\n",
    "    # Convert to real part only if needed\n",
    "    #H_complex = H_complex.real()\n",
    "    #H_complex = torch.tensor(hamiltonian, dtype=torch.cfloat).real\n",
    "\n",
    "    wavefunction = output  # Assuming this is a complex tensor\n",
    "    #wavefunction_np = wavefunction.detach().numpy()\n",
    "    #expectation_value = np.dot(wavefunction_np, np.dot(hamiltonian, wavefunction_np))\n",
    "\n",
    "    # Normalize the wavefunction\n",
    "    norm_wavefunction = wavefunction / torch.sqrt(torch.sum(torch.abs(wavefunction)**2))\n",
    "\n",
    "    # Check if the size of the Hamiltonian matches the size of the wavefunction\n",
    "    # This is crucial, and you need to address this if there's a mismatch\n",
    "    assert H_complex.shape[0] == norm_wavefunction.shape[0], \"Size mismatch between Hamiltonian and wavefunction\"\n",
    "\n",
    "    # Calculate the energy expectation value\n",
    "    energy = torch.vdot(norm_wavefunction, torch.mv(H_complex_real, norm_wavefunction)).real\n",
    "\n",
    "\n",
    "    return energy #torch.tensor([0.0], requires_grad=True)  # Example placeholder"
   ]
  },
  {
   "cell_type": "markdown",
   "id": "3c2f22d3",
   "metadata": {},
   "source": [
    "### Training Loop"
   ]
  },
  {
   "cell_type": "code",
   "execution_count": 12,
   "id": "db0fbfed",
   "metadata": {},
   "outputs": [
    {
     "name": "stdout",
     "output_type": "stream",
     "text": [
      "Epoch 1/100, Loss: -8.369556427001953\n",
      "Epoch 2/100, Loss: -11.81241226196289\n",
      "Epoch 3/100, Loss: -16.721439361572266\n",
      "Epoch 4/100, Loss: -21.5722713470459\n",
      "Epoch 5/100, Loss: -25.303470611572266\n",
      "Epoch 6/100, Loss: -28.126394271850586\n",
      "Epoch 7/100, Loss: -29.811378479003906\n",
      "Epoch 8/100, Loss: -30.529094696044922\n",
      "Epoch 9/100, Loss: -30.754291534423828\n",
      "Epoch 10/100, Loss: -30.80258560180664\n",
      "Epoch 11/100, Loss: -30.804550170898438\n",
      "Epoch 12/100, Loss: -30.81591033935547\n",
      "Epoch 13/100, Loss: -30.859745025634766\n",
      "Epoch 14/100, Loss: -30.937183380126953\n",
      "Epoch 15/100, Loss: -31.03573989868164\n",
      "Epoch 16/100, Loss: -31.140522003173828\n",
      "Epoch 17/100, Loss: -31.240447998046875\n",
      "Epoch 18/100, Loss: -31.33068084716797\n",
      "Epoch 19/100, Loss: -31.410655975341797\n",
      "Epoch 20/100, Loss: -31.481447219848633\n",
      "Epoch 21/100, Loss: -31.543752670288086\n",
      "Epoch 22/100, Loss: -31.597225189208984\n",
      "Epoch 23/100, Loss: -31.641292572021484\n",
      "Epoch 24/100, Loss: -31.676189422607422\n",
      "Epoch 25/100, Loss: -31.70318031311035\n",
      "Epoch 26/100, Loss: -31.724212646484375\n",
      "Epoch 27/100, Loss: -31.741182327270508\n",
      "Epoch 28/100, Loss: -31.755496978759766\n",
      "Epoch 29/100, Loss: -31.767929077148438\n",
      "Epoch 30/100, Loss: -31.778779983520508\n",
      "Epoch 31/100, Loss: -31.7882080078125\n",
      "Epoch 32/100, Loss: -31.796512603759766\n",
      "Epoch 33/100, Loss: -31.804059982299805\n",
      "Epoch 34/100, Loss: -31.811208724975586\n",
      "Epoch 35/100, Loss: -31.81812858581543\n",
      "Epoch 36/100, Loss: -31.824779510498047\n",
      "Epoch 37/100, Loss: -31.830989837646484\n",
      "Epoch 38/100, Loss: -31.8366641998291\n",
      "Epoch 39/100, Loss: -31.841754913330078\n",
      "Epoch 40/100, Loss: -31.846355438232422\n",
      "Epoch 41/100, Loss: -31.850574493408203\n",
      "Epoch 42/100, Loss: -31.854463577270508\n",
      "Epoch 43/100, Loss: -31.85801124572754\n",
      "Epoch 44/100, Loss: -31.86115837097168\n",
      "Epoch 45/100, Loss: -31.86387825012207\n",
      "Epoch 46/100, Loss: -31.866207122802734\n",
      "Epoch 47/100, Loss: -31.86823272705078\n",
      "Epoch 48/100, Loss: -31.87006378173828\n",
      "Epoch 49/100, Loss: -31.87174415588379\n",
      "Epoch 50/100, Loss: -31.873302459716797\n",
      "Epoch 51/100, Loss: -31.874719619750977\n",
      "Epoch 52/100, Loss: -31.87598991394043\n",
      "Epoch 53/100, Loss: -31.877113342285156\n",
      "Epoch 54/100, Loss: -31.878129959106445\n",
      "Epoch 55/100, Loss: -31.879070281982422\n",
      "Epoch 56/100, Loss: -31.879945755004883\n",
      "Epoch 57/100, Loss: -31.880756378173828\n",
      "Epoch 58/100, Loss: -31.88147735595703\n",
      "Epoch 59/100, Loss: -31.882102966308594\n",
      "Epoch 60/100, Loss: -31.882652282714844\n",
      "Epoch 61/100, Loss: -31.883132934570312\n",
      "Epoch 62/100, Loss: -31.883573532104492\n",
      "Epoch 63/100, Loss: -31.88397979736328\n",
      "Epoch 64/100, Loss: -31.884349822998047\n",
      "Epoch 65/100, Loss: -31.884687423706055\n",
      "Epoch 66/100, Loss: -31.884979248046875\n",
      "Epoch 67/100, Loss: -31.88525390625\n",
      "Epoch 68/100, Loss: -31.88549041748047\n",
      "Epoch 69/100, Loss: -31.88571548461914\n",
      "Epoch 70/100, Loss: -31.88593292236328\n",
      "Epoch 71/100, Loss: -31.886125564575195\n",
      "Epoch 72/100, Loss: -31.886302947998047\n",
      "Epoch 73/100, Loss: -31.88645362854004\n",
      "Epoch 74/100, Loss: -31.886594772338867\n",
      "Epoch 75/100, Loss: -31.8867244720459\n",
      "Epoch 76/100, Loss: -31.886837005615234\n",
      "Epoch 77/100, Loss: -31.886938095092773\n",
      "Epoch 78/100, Loss: -31.88703155517578\n",
      "Epoch 79/100, Loss: -31.88711166381836\n",
      "Epoch 80/100, Loss: -31.887168884277344\n",
      "Epoch 81/100, Loss: -31.88723373413086\n",
      "Epoch 82/100, Loss: -31.887287139892578\n",
      "Epoch 83/100, Loss: -31.887344360351562\n",
      "Epoch 84/100, Loss: -31.887393951416016\n",
      "Epoch 85/100, Loss: -31.887428283691406\n",
      "Epoch 86/100, Loss: -31.887462615966797\n",
      "Epoch 87/100, Loss: -31.88750457763672\n",
      "Epoch 88/100, Loss: -31.887535095214844\n",
      "Epoch 89/100, Loss: -31.887569427490234\n",
      "Epoch 90/100, Loss: -31.887596130371094\n",
      "Epoch 91/100, Loss: -31.887615203857422\n",
      "Epoch 92/100, Loss: -31.887645721435547\n",
      "Epoch 93/100, Loss: -31.88766098022461\n",
      "Epoch 94/100, Loss: -31.887676239013672\n",
      "Epoch 95/100, Loss: -31.887697219848633\n",
      "Epoch 96/100, Loss: -31.887706756591797\n",
      "Epoch 97/100, Loss: -31.887725830078125\n",
      "Epoch 98/100, Loss: -31.887733459472656\n",
      "Epoch 99/100, Loss: -31.88774299621582\n",
      "Epoch 100/100, Loss: -31.887754440307617\n"
     ]
    }
   ],
   "source": [
    "# Sample input\n",
    "input_data = torch.rand(16380, requires_grad=True)  # Example input\n",
    "#input_data= torch.tensor([ 0.3679, -0.0602,  0.6200,  0.1083, -0.0054,  0.0107,  0.1241, 0.3679, -0.0602,  0.6200,  0.1083, -0.0054,  0.0107,  0.1241])\n",
    "\n",
    "# Optimization setup\n",
    "#print(\"The model parameters are: \", model.parameters)\n",
    "optimizer = optim.Adam(model.parameters(), lr=0.01)\n",
    "num_epochs = 100\n",
    "loss_values = []\n",
    "\n",
    "for epoch in range(num_epochs):\n",
    "    optimizer.zero_grad()            # Clear existing gradients\n",
    "    output = model(input_data)       # Forward pass\n",
    "\n",
    "    # Ensure output requires grad\n",
    "    if not output.requires_grad:\n",
    "        raise RuntimeError(\"Output does not require gradients. Check model implementation.\")\n",
    "\n",
    "    # Calculate the loss\n",
    "    #initial_hamiltonian = hamiltonian_initial_module.mf.get_hcore()\n",
    "    #final_hamiltonian = hamiltonian_final_module.mf.get_hcore()\n",
    "    loss = energy_expectation(output,large_H_spin_sparse_csr)\n",
    "    # Check if loss requires grad\n",
    "    if not loss.requires_grad:\n",
    "        raise RuntimeError(\"Loss does not require gradients. Check energy_expectation implementation.\")\n",
    "\n",
    "    loss.backward()                  # Backward pass\n",
    "    optimizer.step()                 # Update parameters\n",
    "    loss_values.append(loss.item())  # Store loss for plotting\n",
    "    print(f\"Epoch {epoch+1}/{num_epochs}, Loss: {loss.item()}\")\n"
   ]
  },
  {
   "cell_type": "markdown",
   "id": "00ba5802",
   "metadata": {},
   "source": [
    "### Training Loss Plot"
   ]
  },
  {
   "cell_type": "code",
   "execution_count": 13,
   "id": "f0a2859f",
   "metadata": {},
   "outputs": [
    {
     "data": {
      "image/png": "[encoded data removed]",
      "text/plain": [
       "<Figure size 640x480 with 1 Axes>"
      ]
     },
     "metadata": {},
     "output_type": "display_data"
    }
   ],
   "source": [
    "# Plotting the loss values\n",
    "plt.plot(loss_values)\n",
    "plt.axhline(y=-31.88784079412096, color='r', linestyle='--')\n",
    "plt.xlabel('Epoch')\n",
    "plt.ylabel('Loss')\n",
    "plt.title('Training Loss Over Time')\n",
    "plt.show()"
   ]
  },
  {
   "cell_type": "markdown",
   "id": "38462178",
   "metadata": {},
   "source": [
    "#### Energy difference"
   ]
  },
  {
   "cell_type": "code",
   "execution_count": 14,
   "id": "e5f78a0b",
   "metadata": {},
   "outputs": [
    {
     "name": "stdout",
     "output_type": "stream",
     "text": [
      "Energy difference in percentage :  2.708048309356115e-06\n"
     ]
    }
   ],
   "source": [
    "def diff_calculator(true,network_energy):\n",
    "    value = abs(true- network_energy)/ abs(true)\n",
    "    return value\n",
    "\n",
    "\n",
    "print(\"Energy difference in percentage : \", diff_calculator(smallest_eigenvalue, loss_values[99]))"
   ]
  },
  {
   "cell_type": "code",
   "execution_count": 33,
   "id": "b566bf8c",
   "metadata": {},
   "outputs": [
    {
     "name": "stdout",
     "output_type": "stream",
     "text": [
      "<bound method Module.parameters of HybridModel(\n",
      "  (encoder): ClassicalEncoder(\n",
      "    (fc): Sequential(\n",
      "      (0): Linear(in_features=16384, out_features=28, bias=True)\n",
      "      (1): ReLU()\n",
      "      (2): Linear(in_features=28, out_features=56, bias=True)\n",
      "      (3): ReLU()\n",
      "      (4): Linear(in_features=56, out_features=28, bias=True)\n",
      "      (5): ReLU()\n",
      "      (6): Linear(in_features=28, out_features=14, bias=True)\n",
      "      (7): ReLU()\n",
      "      (8): Linear(in_features=14, out_features=4, bias=True)\n",
      "    )\n",
      "  )\n",
      "  (decoder): ClassicalDecoder(\n",
      "    (fc): Sequential(\n",
      "      (0): Linear(in_features=4, out_features=8, bias=True)\n",
      "      (1): ReLU()\n",
      "      (2): Linear(in_features=8, out_features=16, bias=True)\n",
      "      (3): ReLU()\n",
      "      (4): Linear(in_features=16, out_features=32, bias=True)\n",
      "      (5): ReLU()\n",
      "      (6): Linear(in_features=32, out_features=64, bias=True)\n",
      "      (7): ReLU()\n",
      "      (8): Linear(in_features=64, out_features=32, bias=True)\n",
      "      (9): ReLU()\n",
      "      (10): Linear(in_features=32, out_features=16384, bias=True)\n",
      "    )\n",
      "  )\n",
      ")>\n"
     ]
    }
   ],
   "source": [
    "print(model.parameters)"
   ]
  },
  {
   "cell_type": "code",
   "execution_count": null,
   "id": "9ff7fc17",
   "metadata": {},
   "outputs": [],
   "source": []
  },
  {
   "cell_type": "code",
   "execution_count": null,
   "id": "d375931c",
   "metadata": {},
   "outputs": [],
   "source": []
  }
 ],
 "metadata": {
  "kernelspec": {
   "display_name": "Python 3",
   "language": "python",
   "name": "python3"
  },
  "language_info": {
   "codemirror_mode": {
    "name": "ipython",
    "version": 3
   },
   "file_extension": ".py",
   "mimetype": "text/x-python",
   "name": "python",
   "nbconvert_exporter": "python",
   "pygments_lexer": "ipython3",
   "version": "3.11.5"
  }
 },
 "nbformat": 4,
 "nbformat_minor": 5
}
