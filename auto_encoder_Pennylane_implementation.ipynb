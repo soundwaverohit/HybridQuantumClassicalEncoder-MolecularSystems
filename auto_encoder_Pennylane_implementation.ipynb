{
 "cells": [
  {
   "cell_type": "markdown",
   "id": "c5666165",
   "metadata": {},
   "source": [
    "# Hybrid quantum-classical auto encoder "
   ]
  },
  {
   "cell_type": "code",
   "execution_count": 1,
   "id": "d5de168d",
   "metadata": {},
   "outputs": [],
   "source": [
    "import torch\n",
    "import torch.nn as nn\n",
    "import torch.optim as optim\n",
    "import pennylane as qml\n",
    "\n",
    "import numpy as np\n",
    "import matplotlib.pyplot as plt"
   ]
  },
  {
   "cell_type": "code",
   "execution_count": 2,
   "id": "b467b33c",
   "metadata": {},
   "outputs": [],
   "source": [
    "# ===================================================================================\n",
    "#                       Create Data\n",
    "# ===================================================================================\n",
    "\n",
    "num_train = 100\n",
    "num_test = 20\n",
    "len_vector = 3\n",
    "\n",
    "np.random.seed(1)\n",
    "x_train = torch.tensor(np.random.rand(num_train, len_vector), dtype=torch.float32)\n",
    "x_test = torch.tensor(np.random.rand(num_test, len_vector), dtype=torch.float32)"
   ]
  },
  {
   "cell_type": "code",
   "execution_count": 3,
   "id": "065bde3e",
   "metadata": {},
   "outputs": [],
   "source": [
    "# ===================================================================================\n",
    "#                       Classical Layers using PyTorch Sequential\n",
    "# ===================================================================================\n",
    "\n",
    "# Define first layer, hidden layers, and output layer with the output of two neurons\n",
    "\n",
    "model = nn.Sequential(\n",
    "    nn.Linear(3, 5),\n",
    "    nn.ELU(),\n",
    "    nn.Linear(5, 5),\n",
    "    nn.ELU(),\n",
    "    nn.Linear(5, 5),\n",
    "    nn.ELU(),\n",
    "    nn.Linear(5, 5),\n",
    "    nn.ELU(),\n",
    "    nn.Linear(5, 5),\n",
    "    nn.ELU(),\n",
    "    nn.Linear(5, 5),\n",
    "    nn.ELU(),\n",
    "    nn.Linear(5, 2),\n",
    "    nn.ELU()\n",
    ")"
   ]
  },
  {
   "cell_type": "code",
   "execution_count": 4,
   "id": "5b92970b",
   "metadata": {},
   "outputs": [],
   "source": [
    "# ===================================================================================\n",
    "#                                Quantum Layer\n",
    "# ===================================================================================\n",
    "\n",
    "num_modes = 1\n",
    "num_basis = 3\n",
    "\n",
    "dev = qml.device(\"strawberryfields.fock\", wires=num_modes, cutoff_dim=num_basis)\n",
    "\n",
    "class QuantumLayer(nn.Module):\n",
    "    def __init__(self, num_layers, num_modes):\n",
    "        super().__init__()\n",
    "        self.num_layers = num_layers\n",
    "        self.num_modes = num_modes\n",
    "        self.weights = nn.Parameter(torch.randn(num_layers, 5 * num_modes))\n",
    "\n",
    "    def forward(self, x):\n",
    "        def q_layer(v):\n",
    "            qml.Rotation(v[0], wires=0)\n",
    "            qml.Squeezing(v[1], 0.0, wires=0)\n",
    "            qml.Rotation(v[2], wires=0)\n",
    "            qml.Displacement(v[3], 0.0, wires=0)\n",
    "            qml.Kerr(v[4], wires=0)\n",
    "        \n",
    "        @qml.qnode(dev, interface='torch')\n",
    "        def quantum_nn(inputs, weights):\n",
    "            # Assuming inputs is a tensor with shape [batch_size, 2]\n",
    "            for i in range(inputs.shape[0]):\n",
    "                qml.Displacement(inputs[i, 0].item(), inputs[i, 1].item(), wires=0)\n",
    "            for v in weights:\n",
    "                q_layer(v)\n",
    "            return qml.probs(wires=0)\n",
    "        \n",
    "        # Clone and detach to ensure compatibility with PyTorch's computational graph\n",
    "        x = x.clone().detach().requires_grad_(True)\n",
    "        return quantum_nn(x, self.weights).float()"
   ]
  },
  {
   "cell_type": "code",
   "execution_count": 5,
   "id": "fc7c60a0",
   "metadata": {},
   "outputs": [],
   "source": [
    "# ===================================================================================\n",
    "#                             Hybrid Model\n",
    "# ===================================================================================\n",
    "\n",
    "num_layers = 25\n",
    "num_modes = 1\n",
    "\n",
    "qlayer = QuantumLayer(num_layers, num_modes)\n",
    "model.add_module(\"QuantumLayer\", qlayer)"
   ]
  },
  {
   "cell_type": "code",
   "execution_count": 6,
   "id": "fe170085",
   "metadata": {},
   "outputs": [
    {
     "name": "stderr",
     "output_type": "stream",
     "text": [
      "/Users/rohitganti/anaconda3/lib/python3.11/site-packages/torch/nn/modules/loss.py:535: UserWarning: Using a target size (torch.Size([100, 3])) that is different to the input size (torch.Size([3])). This will likely lead to incorrect results due to broadcasting. Please ensure they have the same size.\n"
     ]
    },
    {
     "name": "stdout",
     "output_type": "stream",
     "text": [
      "Epoch 1, Loss: 0.3473872244358063, Accuracy: 1.0\n",
      "Epoch 2, Loss: 0.3473872244358063, Accuracy: 1.0\n",
      "Epoch 3, Loss: 0.3473872244358063, Accuracy: 1.0\n",
      "Epoch 4, Loss: 0.3473872244358063, Accuracy: 1.0\n",
      "Epoch 5, Loss: 0.3473872244358063, Accuracy: 1.0\n",
      "Epoch 6, Loss: 0.3473872244358063, Accuracy: 1.0\n",
      "Epoch 7, Loss: 0.3473872244358063, Accuracy: 1.0\n",
      "Epoch 8, Loss: 0.3473872244358063, Accuracy: 1.0\n",
      "Epoch 9, Loss: 0.3473872244358063, Accuracy: 1.0\n",
      "Epoch 10, Loss: 0.3473872244358063, Accuracy: 1.0\n"
     ]
    }
   ],
   "source": [
    "# ===================================================================================\n",
    "#                                    Training\n",
    "# ===================================================================================\n",
    "\n",
    "opt = optim.Adam(model.parameters(), lr=0.01)\n",
    "loss_func = nn.MSELoss()\n",
    "\n",
    "# Initialize lists to store the history\n",
    "loss_history = []\n",
    "accuracy_history = []\n",
    "\n",
    "# Define a function to calculate accuracy (replace this with your accuracy calculation method)\n",
    "def calculate_accuracy(y_pred, y_true):\n",
    "    # Dummy accuracy calculation: replace with your actual accuracy calculation\n",
    "    # For example, you could define accuracy as the percentage of predictions within a certain range of the actual values\n",
    "    return torch.mean((y_pred - y_true).abs() / y_true.abs()).item()\n",
    "\n",
    "for epoch in range(10):\n",
    "    opt.zero_grad()\n",
    "    output = model(x_train)\n",
    "    loss = loss_func(output, x_train)\n",
    "    loss.backward()\n",
    "    opt.step()\n",
    "    accuracy = calculate_accuracy(output, x_train)\n",
    "    \n",
    "    # Append loss and accuracy to their respective lists\n",
    "    loss_history.append(loss.item())\n",
    "    accuracy_history.append(accuracy)\n",
    "    print(f\"Epoch {epoch+1}, Loss: {loss.item()}, Accuracy: {accuracy}\")\n",
    "\n"
   ]
  },
  {
   "cell_type": "code",
   "execution_count": 7,
   "id": "85db9061",
   "metadata": {},
   "outputs": [
    {
     "data": {
      "image/png": "[encoded data removed]",
      "text/plain": [
       "<Figure size 1200x500 with 2 Axes>"
      ]
     },
     "metadata": {},
     "output_type": "display_data"
    }
   ],
   "source": [
    "# Plotting\n",
    "plt.figure(figsize=(12, 5))\n",
    "\n",
    "# Loss plot\n",
    "plt.subplot(1, 2, 1)\n",
    "plt.plot(loss_history, label='Loss')\n",
    "plt.title('Loss History')\n",
    "plt.xlabel('Epoch')\n",
    "plt.ylabel('Loss')\n",
    "plt.legend()\n",
    "\n",
    "# Accuracy plot\n",
    "plt.subplot(1, 2, 2)\n",
    "plt.plot(accuracy_history, label='Accuracy', color='green')\n",
    "plt.title('Accuracy History')\n",
    "plt.xlabel('Epoch')\n",
    "plt.ylabel('Accuracy')\n",
    "plt.legend()\n",
    "\n",
    "plt.show()"
   ]
  },
  {
   "cell_type": "code",
   "execution_count": 11,
   "id": "25f1beac",
   "metadata": {},
   "outputs": [
    {
     "name": "stdout",
     "output_type": "stream",
     "text": [
      "<class 'qiskit_nature.second_q.operators.electronic_integrals.ElectronicIntegrals'>\n",
      "Polynomial Tensor\n",
      " \"+-\":\n",
      "array([[-1.25633907e+00, -1.37083854e-17],\n",
      "       [-3.92720783e-17, -4.71896007e-01]])\n",
      " \"++--\":\n",
      "array([6.75710155e-01, 8.69283836e-17, 1.80931200e-01, 6.64581730e-01,\n",
      "       2.25343262e-16, 6.98573723e-01])\n"
     ]
    }
   ],
   "source": [
    "from qiskit_nature.second_q.drivers import PySCFDriver\n",
    "import torch\n",
    "driver = PySCFDriver(atom=\"H 0 0 0; H 0 0 0.735\", basis=\"sto-3g\")\n",
    "problem = driver.run()\n",
    "hamiltonian = problem.hamiltonian\n",
    "coefficients = hamiltonian.electronic_integrals\n",
    "inputs= coefficients.alpha\n",
    "print(type(coefficients))\n",
    "print(coefficients.alpha)"
   ]
  },
  {
   "cell_type": "code",
   "execution_count": 22,
   "id": "c06286a2",
   "metadata": {},
   "outputs": [
    {
     "ename": "TypeError",
     "evalue": "must be real number, not method",
     "output_type": "error",
     "traceback": [
      "\u001b[0;31m---------------------------------------------------------------------------\u001b[0m",
      "\u001b[0;31mTypeError\u001b[0m                                 Traceback (most recent call last)",
      "Cell \u001b[0;32mIn[22], line 1\u001b[0m\n\u001b[0;32m----> 1\u001b[0m torch\u001b[38;5;241m.\u001b[39mtensor(inputs\u001b[38;5;241m.\u001b[39mtensor, dtype\u001b[38;5;241m=\u001b[39mtorch\u001b[38;5;241m.\u001b[39mfloat32)\n",
      "\u001b[0;31mTypeError\u001b[0m: must be real number, not method"
     ]
    }
   ],
   "source": [
    "torch.tensor(inputs.tensor, dtype=torch.float32)"
   ]
  },
  {
   "cell_type": "code",
   "execution_count": 17,
   "id": "9c30c6f8",
   "metadata": {},
   "outputs": [
    {
     "data": {
      "text/plain": [
       "<bound method PolynomialTensor.tensor of PolynomialTensor({'+-': array([[-1.25633907e+00, -1.37083854e-17],\n",
       "       [-3.92720783e-17, -4.71896007e-01]]), '++--': array([6.75710155e-01, 8.69283836e-17, 1.80931200e-01, 6.64581730e-01,\n",
       "       2.25343262e-16, 6.98573723e-01])})>"
      ]
     },
     "execution_count": 17,
     "metadata": {},
     "output_type": "execute_result"
    }
   ],
   "source": [
    "inputs.tensor"
   ]
  },
  {
   "cell_type": "code",
   "execution_count": 28,
   "id": "a291cd81",
   "metadata": {},
   "outputs": [
    {
     "data": {
      "text/plain": [
       "ValuesView(PolynomialTensor({'+-': array([[-1.25633907e+00, -1.37083854e-17],\n",
       "       [-3.92720783e-17, -4.71896007e-01]]), '++--': array([6.75710155e-01, 8.69283836e-17, 1.80931200e-01, 6.64581730e-01,\n",
       "       2.25343262e-16, 6.98573723e-01])}))"
      ]
     },
     "execution_count": 28,
     "metadata": {},
     "output_type": "execute_result"
    }
   ],
   "source": []
  },
  {
   "cell_type": "code",
   "execution_count": 33,
   "id": "c22b95d0",
   "metadata": {},
   "outputs": [],
   "source": [
    "ss=hamiltonian.second_q_op()"
   ]
  },
  {
   "cell_type": "code",
   "execution_count": 37,
   "id": "0a2eb4a2",
   "metadata": {},
   "outputs": [],
   "source": [
    "dis= dict(ss)"
   ]
  },
  {
   "cell_type": "code",
   "execution_count": 43,
   "id": "6996c0fe",
   "metadata": {},
   "outputs": [
    {
     "name": "stdout",
     "output_type": "stream",
     "text": [
      "-1.25633907300325\n",
      "-0.47189600728114184\n",
      "-1.25633907300325\n",
      "-0.47189600728114184\n",
      "0.3378550774017583\n",
      "0.3322908651276482\n",
      "0.3378550774017583\n",
      "0.3322908651276482\n",
      "0.09046559989211572\n",
      "0.09046559989211572\n",
      "0.09046559989211572\n",
      "0.09046559989211572\n",
      "0.09046559989211572\n",
      "0.09046559989211572\n",
      "0.09046559989211572\n",
      "0.09046559989211572\n",
      "0.3322908651276482\n",
      "0.34928686136600906\n",
      "0.3322908651276482\n",
      "0.34928686136600906\n",
      "0.3378550774017583\n",
      "0.3322908651276482\n",
      "0.3378550774017583\n",
      "0.3322908651276482\n",
      "0.09046559989211572\n",
      "0.09046559989211572\n",
      "0.09046559989211572\n",
      "0.09046559989211572\n",
      "0.09046559989211572\n",
      "0.09046559989211572\n",
      "0.09046559989211572\n",
      "0.09046559989211572\n",
      "0.3322908651276482\n",
      "0.34928686136600906\n",
      "0.3322908651276482\n",
      "0.34928686136600906\n"
     ]
    }
   ],
   "source": [
    "arrs = []\n",
    "for elements in dis:\n",
    "    arrs.append(dis[elements])\n",
    "    print(dis[elements])"
   ]
  },
  {
   "cell_type": "code",
   "execution_count": 45,
   "id": "d54530ed",
   "metadata": {},
   "outputs": [
    {
     "data": {
      "text/plain": [
       "36"
      ]
     },
     "execution_count": 45,
     "metadata": {},
     "output_type": "execute_result"
    }
   ],
   "source": []
  },
  {
   "cell_type": "code",
   "execution_count": null,
   "id": "cee9e833",
   "metadata": {},
   "outputs": [],
   "source": []
  }
 ],
 "metadata": {
  "kernelspec": {
   "display_name": "Python 3",
   "language": "python",
   "name": "python3"
  },
  "language_info": {
   "codemirror_mode": {
    "name": "ipython",
    "version": 3
   },
   "file_extension": ".py",
   "mimetype": "text/x-python",
   "name": "python",
   "nbconvert_exporter": "python",
   "pygments_lexer": "ipython3",
   "version": "3.11.5"
  }
 },
 "nbformat": 4,
 "nbformat_minor": 5
}
